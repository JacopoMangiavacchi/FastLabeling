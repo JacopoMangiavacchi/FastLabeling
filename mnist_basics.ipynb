{
  "nbformat": 4,
  "nbformat_minor": 0,
  "metadata": {
    "accelerator": "GPU",
    "colab": {
      "name": "mnist_basics.ipynb",
      "provenance": [],
      "include_colab_link": true
    },
    "jupytext": {
      "split_at_heading": true
    },
    "kernelspec": {
      "display_name": "Python 3",
      "language": "python",
      "name": "python3"
    },
    "language_info": {
      "codemirror_mode": {
        "name": "ipython",
        "version": 3
      },
      "file_extension": ".py",
      "mimetype": "text/x-python",
      "name": "python",
      "nbconvert_exporter": "python",
      "pygments_lexer": "ipython3",
      "version": "3.7.6"
    },
    "widgets": {
      "application/vnd.jupyter.widget-state+json": {
        "aff4bb849b5b4e3d8cc1ba69583cfeab": {
          "model_module": "@jupyter-widgets/controls",
          "model_name": "HBoxModel",
          "state": {
            "_dom_classes": [],
            "_model_module": "@jupyter-widgets/controls",
            "_model_module_version": "1.5.0",
            "_model_name": "HBoxModel",
            "_view_count": null,
            "_view_module": "@jupyter-widgets/controls",
            "_view_module_version": "1.5.0",
            "_view_name": "HBoxView",
            "box_style": "",
            "children": [
              "IPY_MODEL_1579b2362ec24e759ce7f18fc88db4a5",
              "IPY_MODEL_869d2395d81343fab8b6da614a62a5b0"
            ],
            "layout": "IPY_MODEL_d3a899df40794228975ae9d303995390"
          }
        },
        "d3a899df40794228975ae9d303995390": {
          "model_module": "@jupyter-widgets/base",
          "model_name": "LayoutModel",
          "state": {
            "_model_module": "@jupyter-widgets/base",
            "_model_module_version": "1.2.0",
            "_model_name": "LayoutModel",
            "_view_count": null,
            "_view_module": "@jupyter-widgets/base",
            "_view_module_version": "1.2.0",
            "_view_name": "LayoutView",
            "align_content": null,
            "align_items": null,
            "align_self": null,
            "border": null,
            "bottom": null,
            "display": null,
            "flex": null,
            "flex_flow": null,
            "grid_area": null,
            "grid_auto_columns": null,
            "grid_auto_flow": null,
            "grid_auto_rows": null,
            "grid_column": null,
            "grid_gap": null,
            "grid_row": null,
            "grid_template_areas": null,
            "grid_template_columns": null,
            "grid_template_rows": null,
            "height": null,
            "justify_content": null,
            "justify_items": null,
            "left": null,
            "margin": null,
            "max_height": null,
            "max_width": null,
            "min_height": null,
            "min_width": null,
            "object_fit": null,
            "object_position": null,
            "order": null,
            "overflow": null,
            "overflow_x": null,
            "overflow_y": null,
            "padding": null,
            "right": null,
            "top": null,
            "visibility": null,
            "width": null
          }
        },
        "1579b2362ec24e759ce7f18fc88db4a5": {
          "model_module": "@jupyter-widgets/controls",
          "model_name": "FloatProgressModel",
          "state": {
            "_dom_classes": [],
            "_model_module": "@jupyter-widgets/controls",
            "_model_module_version": "1.5.0",
            "_model_name": "FloatProgressModel",
            "_view_count": null,
            "_view_module": "@jupyter-widgets/controls",
            "_view_module_version": "1.5.0",
            "_view_name": "ProgressView",
            "bar_style": "success",
            "description": "100%",
            "description_tooltip": null,
            "layout": "IPY_MODEL_5b4e5a5ee9b64c298aea94bf239be6a5",
            "max": 87306240,
            "min": 0,
            "orientation": "horizontal",
            "style": "IPY_MODEL_c4f37fa3b872461d964286a373077db4",
            "value": 87306240
          }
        },
        "869d2395d81343fab8b6da614a62a5b0": {
          "model_module": "@jupyter-widgets/controls",
          "model_name": "HTMLModel",
          "state": {
            "_dom_classes": [],
            "_model_module": "@jupyter-widgets/controls",
            "_model_module_version": "1.5.0",
            "_model_name": "HTMLModel",
            "_view_count": null,
            "_view_module": "@jupyter-widgets/controls",
            "_view_module_version": "1.5.0",
            "_view_name": "HTMLView",
            "description": "",
            "description_tooltip": null,
            "layout": "IPY_MODEL_a782761bb2144494a8c193f941f6e722",
            "placeholder": "​",
            "style": "IPY_MODEL_3d6f8a84c9f84801a7fd39df0666e613",
            "value": " 83.3M/83.3M [02:12&lt;00:00, 661kB/s]"
          }
        },
        "c4f37fa3b872461d964286a373077db4": {
          "model_module": "@jupyter-widgets/controls",
          "model_name": "ProgressStyleModel",
          "state": {
            "_model_module": "@jupyter-widgets/controls",
            "_model_module_version": "1.5.0",
            "_model_name": "ProgressStyleModel",
            "_view_count": null,
            "_view_module": "@jupyter-widgets/base",
            "_view_module_version": "1.2.0",
            "_view_name": "StyleView",
            "bar_color": null,
            "description_width": "initial"
          }
        },
        "5b4e5a5ee9b64c298aea94bf239be6a5": {
          "model_module": "@jupyter-widgets/base",
          "model_name": "LayoutModel",
          "state": {
            "_model_module": "@jupyter-widgets/base",
            "_model_module_version": "1.2.0",
            "_model_name": "LayoutModel",
            "_view_count": null,
            "_view_module": "@jupyter-widgets/base",
            "_view_module_version": "1.2.0",
            "_view_name": "LayoutView",
            "align_content": null,
            "align_items": null,
            "align_self": null,
            "border": null,
            "bottom": null,
            "display": null,
            "flex": null,
            "flex_flow": null,
            "grid_area": null,
            "grid_auto_columns": null,
            "grid_auto_flow": null,
            "grid_auto_rows": null,
            "grid_column": null,
            "grid_gap": null,
            "grid_row": null,
            "grid_template_areas": null,
            "grid_template_columns": null,
            "grid_template_rows": null,
            "height": null,
            "justify_content": null,
            "justify_items": null,
            "left": null,
            "margin": null,
            "max_height": null,
            "max_width": null,
            "min_height": null,
            "min_width": null,
            "object_fit": null,
            "object_position": null,
            "order": null,
            "overflow": null,
            "overflow_x": null,
            "overflow_y": null,
            "padding": null,
            "right": null,
            "top": null,
            "visibility": null,
            "width": null
          }
        },
        "3d6f8a84c9f84801a7fd39df0666e613": {
          "model_module": "@jupyter-widgets/controls",
          "model_name": "DescriptionStyleModel",
          "state": {
            "_model_module": "@jupyter-widgets/controls",
            "_model_module_version": "1.5.0",
            "_model_name": "DescriptionStyleModel",
            "_view_count": null,
            "_view_module": "@jupyter-widgets/base",
            "_view_module_version": "1.2.0",
            "_view_name": "StyleView",
            "description_width": ""
          }
        },
        "a782761bb2144494a8c193f941f6e722": {
          "model_module": "@jupyter-widgets/base",
          "model_name": "LayoutModel",
          "state": {
            "_model_module": "@jupyter-widgets/base",
            "_model_module_version": "1.2.0",
            "_model_name": "LayoutModel",
            "_view_count": null,
            "_view_module": "@jupyter-widgets/base",
            "_view_module_version": "1.2.0",
            "_view_name": "LayoutView",
            "align_content": null,
            "align_items": null,
            "align_self": null,
            "border": null,
            "bottom": null,
            "display": null,
            "flex": null,
            "flex_flow": null,
            "grid_area": null,
            "grid_auto_columns": null,
            "grid_auto_flow": null,
            "grid_auto_rows": null,
            "grid_column": null,
            "grid_gap": null,
            "grid_row": null,
            "grid_template_areas": null,
            "grid_template_columns": null,
            "grid_template_rows": null,
            "height": null,
            "justify_content": null,
            "justify_items": null,
            "left": null,
            "margin": null,
            "max_height": null,
            "max_width": null,
            "min_height": null,
            "min_width": null,
            "object_fit": null,
            "object_position": null,
            "order": null,
            "overflow": null,
            "overflow_x": null,
            "overflow_y": null,
            "padding": null,
            "right": null,
            "top": null,
            "visibility": null,
            "width": null
          }
        }
      }
    }
  },
  "cells": [
    {
      "cell_type": "markdown",
      "metadata": {
        "id": "view-in-github",
        "colab_type": "text"
      },
      "source": [
        "<a href=\"https://colab.research.google.com/github/JacopoMangiavacchi/FastLabeling/blob/master/mnist_basics.ipynb\" target=\"_parent\"><img src=\"https://colab.research.google.com/assets/colab-badge.svg\" alt=\"Open In Colab\"/></a>"
      ]
    },
    {
      "cell_type": "code",
      "metadata": {
        "colab_type": "code",
        "id": "sAtalHAL-NnO",
        "colab": {},
        "outputId": "49d93c12-71ea-4adc-9ca8-9467f0195a42"
      },
      "source": [
        "!pip install fastai -U"
      ],
      "execution_count": null,
      "outputs": [
        {
          "output_type": "stream",
          "text": [
            "Requirement already up-to-date: fastai in /opt/anaconda3/lib/python3.7/site-packages (2.0.0)\n",
            "Requirement already satisfied, skipping upgrade: fastcore>=1.0.0 in /opt/anaconda3/lib/python3.7/site-packages (from fastai) (1.0.0)\n",
            "Requirement already satisfied, skipping upgrade: fastprogress>=0.2.4 in /opt/anaconda3/lib/python3.7/site-packages (from fastai) (0.2.6)\n",
            "Requirement already satisfied, skipping upgrade: pillow in /opt/anaconda3/lib/python3.7/site-packages (from fastai) (7.0.0)\n",
            "Requirement already satisfied, skipping upgrade: requests in /opt/anaconda3/lib/python3.7/site-packages (from fastai) (2.22.0)\n",
            "Requirement already satisfied, skipping upgrade: packaging in /opt/anaconda3/lib/python3.7/site-packages (from fastai) (20.1)\n",
            "Requirement already satisfied, skipping upgrade: pandas in /opt/anaconda3/lib/python3.7/site-packages (from fastai) (1.0.1)\n",
            "Requirement already satisfied, skipping upgrade: scikit-learn in /opt/anaconda3/lib/python3.7/site-packages (from fastai) (0.22.1)\n",
            "Requirement already satisfied, skipping upgrade: spacy in /opt/anaconda3/lib/python3.7/site-packages (from fastai) (2.3.2)\n",
            "Requirement already satisfied, skipping upgrade: torchvision>=0.7 in /opt/anaconda3/lib/python3.7/site-packages (from fastai) (0.7.0)\n",
            "Requirement already satisfied, skipping upgrade: torch>=1.6.0 in /opt/anaconda3/lib/python3.7/site-packages (from fastai) (1.6.0)\n",
            "Requirement already satisfied, skipping upgrade: scipy in /opt/anaconda3/lib/python3.7/site-packages (from fastai) (1.4.1)\n",
            "Requirement already satisfied, skipping upgrade: pyyaml in /opt/anaconda3/lib/python3.7/site-packages (from fastai) (5.3)\n",
            "Requirement already satisfied, skipping upgrade: pip in /opt/anaconda3/lib/python3.7/site-packages (from fastai) (20.0.2)\n",
            "Requirement already satisfied, skipping upgrade: matplotlib in /opt/anaconda3/lib/python3.7/site-packages (from fastai) (3.1.3)\n",
            "Requirement already satisfied, skipping upgrade: wheel in /opt/anaconda3/lib/python3.7/site-packages (from fastcore>=1.0.0->fastai) (0.34.2)\n",
            "Requirement already satisfied, skipping upgrade: numpy in /opt/anaconda3/lib/python3.7/site-packages (from fastcore>=1.0.0->fastai) (1.18.1)\n",
            "Requirement already satisfied, skipping upgrade: dataclasses in /opt/anaconda3/lib/python3.7/site-packages (from fastcore>=1.0.0->fastai) (0.6)\n",
            "Requirement already satisfied, skipping upgrade: chardet<3.1.0,>=3.0.2 in /opt/anaconda3/lib/python3.7/site-packages (from requests->fastai) (3.0.4)\n",
            "Requirement already satisfied, skipping upgrade: urllib3!=1.25.0,!=1.25.1,<1.26,>=1.21.1 in /opt/anaconda3/lib/python3.7/site-packages (from requests->fastai) (1.25.8)\n",
            "Requirement already satisfied, skipping upgrade: certifi>=2017.4.17 in /opt/anaconda3/lib/python3.7/site-packages (from requests->fastai) (2019.11.28)\n",
            "Requirement already satisfied, skipping upgrade: idna<2.9,>=2.5 in /opt/anaconda3/lib/python3.7/site-packages (from requests->fastai) (2.8)\n",
            "Requirement already satisfied, skipping upgrade: pyparsing>=2.0.2 in /opt/anaconda3/lib/python3.7/site-packages (from packaging->fastai) (2.4.6)\n",
            "Requirement already satisfied, skipping upgrade: six in /opt/anaconda3/lib/python3.7/site-packages (from packaging->fastai) (1.14.0)\n",
            "Requirement already satisfied, skipping upgrade: pytz>=2017.2 in /opt/anaconda3/lib/python3.7/site-packages (from pandas->fastai) (2019.3)\n",
            "Requirement already satisfied, skipping upgrade: python-dateutil>=2.6.1 in /opt/anaconda3/lib/python3.7/site-packages (from pandas->fastai) (2.8.1)\n",
            "Requirement already satisfied, skipping upgrade: joblib>=0.11 in /opt/anaconda3/lib/python3.7/site-packages (from scikit-learn->fastai) (0.14.1)\n",
            "Requirement already satisfied, skipping upgrade: blis<0.5.0,>=0.4.0 in /opt/anaconda3/lib/python3.7/site-packages (from spacy->fastai) (0.4.1)\n",
            "Requirement already satisfied, skipping upgrade: murmurhash<1.1.0,>=0.28.0 in /opt/anaconda3/lib/python3.7/site-packages (from spacy->fastai) (1.0.2)\n",
            "Requirement already satisfied, skipping upgrade: wasabi<1.1.0,>=0.4.0 in /opt/anaconda3/lib/python3.7/site-packages (from spacy->fastai) (0.7.1)\n",
            "Requirement already satisfied, skipping upgrade: catalogue<1.1.0,>=0.0.7 in /opt/anaconda3/lib/python3.7/site-packages (from spacy->fastai) (1.0.0)\n",
            "Requirement already satisfied, skipping upgrade: cymem<2.1.0,>=2.0.2 in /opt/anaconda3/lib/python3.7/site-packages (from spacy->fastai) (2.0.3)\n",
            "Requirement already satisfied, skipping upgrade: plac<1.2.0,>=0.9.6 in /opt/anaconda3/lib/python3.7/site-packages (from spacy->fastai) (1.1.3)\n",
            "Requirement already satisfied, skipping upgrade: tqdm<5.0.0,>=4.38.0 in /opt/anaconda3/lib/python3.7/site-packages (from spacy->fastai) (4.42.1)\n",
            "Requirement already satisfied, skipping upgrade: preshed<3.1.0,>=3.0.2 in /opt/anaconda3/lib/python3.7/site-packages (from spacy->fastai) (3.0.2)\n",
            "Requirement already satisfied, skipping upgrade: setuptools in /opt/anaconda3/lib/python3.7/site-packages (from spacy->fastai) (46.0.0.post20200309)\n",
            "Requirement already satisfied, skipping upgrade: thinc==7.4.1 in /opt/anaconda3/lib/python3.7/site-packages (from spacy->fastai) (7.4.1)\n",
            "Requirement already satisfied, skipping upgrade: srsly<1.1.0,>=1.0.2 in /opt/anaconda3/lib/python3.7/site-packages (from spacy->fastai) (1.0.2)\n",
            "Requirement already satisfied, skipping upgrade: future in /opt/anaconda3/lib/python3.7/site-packages (from torch>=1.6.0->fastai) (0.18.2)\n",
            "Requirement already satisfied, skipping upgrade: cycler>=0.10 in /opt/anaconda3/lib/python3.7/site-packages (from matplotlib->fastai) (0.10.0)\n",
            "Requirement already satisfied, skipping upgrade: kiwisolver>=1.0.1 in /opt/anaconda3/lib/python3.7/site-packages (from matplotlib->fastai) (1.1.0)\n",
            "Requirement already satisfied, skipping upgrade: importlib-metadata>=0.20; python_version < \"3.8\" in /opt/anaconda3/lib/python3.7/site-packages (from catalogue<1.1.0,>=0.0.7->spacy->fastai) (1.5.0)\n",
            "Requirement already satisfied, skipping upgrade: zipp>=0.5 in /opt/anaconda3/lib/python3.7/site-packages (from importlib-metadata>=0.20; python_version < \"3.8\"->catalogue<1.1.0,>=0.0.7->spacy->fastai) (2.2.0)\n"
          ],
          "name": "stdout"
        }
      ]
    },
    {
      "cell_type": "code",
      "metadata": {
        "colab_type": "code",
        "id": "JlRcnsN--NnV",
        "colab": {}
      },
      "source": [
        "from fastai.vision.all import *\n",
        "\n",
        "matplotlib.rc('image', cmap='Greys')"
      ],
      "execution_count": null,
      "outputs": []
    },
    {
      "cell_type": "code",
      "metadata": {
        "colab_type": "code",
        "id": "8sYFk9VL-Nna",
        "colab": {
          "base_uri": "https://localhost:8080/",
          "height": 34
        },
        "outputId": "51dc9b43-1881-4e73-f03a-c1a0227114d5"
      },
      "source": [
        "path = untar_data(URLs.MNIST)\n",
        "Path.BASE_PATH = path\n",
        "path.ls()"
      ],
      "execution_count": null,
      "outputs": [
        {
          "output_type": "execute_result",
          "data": {
            "text/plain": [
              "(#2) [Path('training'),Path('testing')]"
            ]
          },
          "metadata": {
            "tags": []
          },
          "execution_count": 3
        }
      ]
    },
    {
      "cell_type": "code",
      "metadata": {
        "colab_type": "code",
        "id": "ub70XQdK-Nnj",
        "colab": {
          "base_uri": "https://localhost:8080/",
          "height": 34
        },
        "outputId": "076ccaa7-1f7a-48ea-f223-b99e28130577"
      },
      "source": [
        "(path/'training').ls()"
      ],
      "execution_count": null,
      "outputs": [
        {
          "output_type": "execute_result",
          "data": {
            "text/plain": [
              "(#10) [Path('training/9'),Path('training/0'),Path('training/7'),Path('training/6'),Path('training/1'),Path('training/8'),Path('training/4'),Path('training/3'),Path('training/2'),Path('training/5')]"
            ]
          },
          "metadata": {
            "tags": []
          },
          "execution_count": 4
        }
      ]
    },
    {
      "cell_type": "code",
      "metadata": {
        "colab_type": "code",
        "id": "FocObiS7-Nnp",
        "colab": {
          "base_uri": "https://localhost:8080/",
          "height": 71
        },
        "outputId": "a270af35-4480-413f-9adc-160ece296bd4"
      },
      "source": [
        "dls = ImageDataLoaders.from_folder(path, train='training', valid='testing')\n",
        "\n",
        "dls.train_ds, dls.valid_ds"
      ],
      "execution_count": null,
      "outputs": [
        {
          "output_type": "execute_result",
          "data": {
            "text/plain": [
              "((#60000) [(PILImage mode=RGB size=28x28, TensorCategory(9)),(PILImage mode=RGB size=28x28, TensorCategory(9)),(PILImage mode=RGB size=28x28, TensorCategory(9)),(PILImage mode=RGB size=28x28, TensorCategory(9)),(PILImage mode=RGB size=28x28, TensorCategory(9)),(PILImage mode=RGB size=28x28, TensorCategory(9)),(PILImage mode=RGB size=28x28, TensorCategory(9)),(PILImage mode=RGB size=28x28, TensorCategory(9)),(PILImage mode=RGB size=28x28, TensorCategory(9)),(PILImage mode=RGB size=28x28, TensorCategory(9))...],\n",
              " (#10000) [(PILImage mode=RGB size=28x28, TensorCategory(9)),(PILImage mode=RGB size=28x28, TensorCategory(9)),(PILImage mode=RGB size=28x28, TensorCategory(9)),(PILImage mode=RGB size=28x28, TensorCategory(9)),(PILImage mode=RGB size=28x28, TensorCategory(9)),(PILImage mode=RGB size=28x28, TensorCategory(9)),(PILImage mode=RGB size=28x28, TensorCategory(9)),(PILImage mode=RGB size=28x28, TensorCategory(9)),(PILImage mode=RGB size=28x28, TensorCategory(9)),(PILImage mode=RGB size=28x28, TensorCategory(9))...])"
            ]
          },
          "metadata": {
            "tags": []
          },
          "execution_count": 5
        }
      ]
    },
    {
      "cell_type": "code",
      "metadata": {
        "colab_type": "code",
        "id": "j4MFv4TJ-Nnt",
        "colab": {
          "base_uri": "https://localhost:8080/",
          "height": 333,
          "referenced_widgets": [
            "aff4bb849b5b4e3d8cc1ba69583cfeab",
            "d3a899df40794228975ae9d303995390",
            "1579b2362ec24e759ce7f18fc88db4a5",
            "869d2395d81343fab8b6da614a62a5b0",
            "c4f37fa3b872461d964286a373077db4",
            "5b4e5a5ee9b64c298aea94bf239be6a5",
            "3d6f8a84c9f84801a7fd39df0666e613",
            "a782761bb2144494a8c193f941f6e722"
          ]
        },
        "outputId": "de0b1fd1-0f78-4aec-e3b2-58c696231d02"
      },
      "source": [
        "learn = cnn_learner(dls, resnet34, metrics=accuracy)\n",
        "learn.fine_tune(1)\n"
      ],
      "execution_count": null,
      "outputs": [
        {
          "output_type": "display_data",
          "data": {
            "text/html": [
              "<table border=\"1\" class=\"dataframe\">\n",
              "  <thead>\n",
              "    <tr style=\"text-align: left;\">\n",
              "      <th>epoch</th>\n",
              "      <th>train_loss</th>\n",
              "      <th>valid_loss</th>\n",
              "      <th>accuracy</th>\n",
              "      <th>time</th>\n",
              "    </tr>\n",
              "  </thead>\n",
              "  <tbody>\n",
              "    <tr>\n",
              "      <td>0</td>\n",
              "      <td>0.620910</td>\n",
              "      <td>0.417897</td>\n",
              "      <td>0.868700</td>\n",
              "      <td>07:14</td>\n",
              "    </tr>\n",
              "  </tbody>\n",
              "</table>"
            ],
            "text/plain": [
              "<IPython.core.display.HTML object>"
            ]
          },
          "metadata": {
            "tags": []
          }
        },
        {
          "output_type": "display_data",
          "data": {
            "text/html": [
              "<table border=\"1\" class=\"dataframe\">\n",
              "  <thead>\n",
              "    <tr style=\"text-align: left;\">\n",
              "      <th>epoch</th>\n",
              "      <th>train_loss</th>\n",
              "      <th>valid_loss</th>\n",
              "      <th>accuracy</th>\n",
              "      <th>time</th>\n",
              "    </tr>\n",
              "  </thead>\n",
              "  <tbody>\n",
              "    <tr>\n",
              "      <td>0</td>\n",
              "      <td>0.079029</td>\n",
              "      <td>0.046458</td>\n",
              "      <td>0.984700</td>\n",
              "      <td>13:35</td>\n",
              "    </tr>\n",
              "  </tbody>\n",
              "</table>"
            ],
            "text/plain": [
              "<IPython.core.display.HTML object>"
            ]
          },
          "metadata": {
            "tags": []
          }
        }
      ]
    },
    {
      "cell_type": "code",
      "metadata": {
        "colab_type": "code",
        "id": "pviKlxqEFFQr",
        "colab": {
          "base_uri": "https://localhost:8080/",
          "height": 34
        },
        "outputId": "fc0c8f1c-f89d-493d-91b5-3c5280a7f1b3"
      },
      "source": [
        "learn.validate()"
      ],
      "execution_count": null,
      "outputs": [
        {
          "output_type": "display_data",
          "data": {
            "text/html": [
              ""
            ],
            "text/plain": [
              "<IPython.core.display.HTML object>"
            ]
          },
          "metadata": {
            "tags": []
          }
        },
        {
          "output_type": "execute_result",
          "data": {
            "text/plain": [
              "(#2) [0.04645805433392525,0.9847000241279602]"
            ]
          },
          "metadata": {
            "tags": []
          },
          "execution_count": 7
        }
      ]
    },
    {
      "cell_type": "code",
      "metadata": {
        "colab_type": "code",
        "id": "NhEnuhpYGMrP",
        "colab": {},
        "outputId": "03ba9dcb-86fe-44a5-ad55-6ae2020da577"
      },
      "source": [
        "learn.summary()"
      ],
      "execution_count": null,
      "outputs": [
        {
          "output_type": "display_data",
          "data": {
            "text/html": [
              "<table border=\"1\" class=\"dataframe\">\n",
              "  <thead>\n",
              "    <tr style=\"text-align: left;\">\n",
              "      <th>epoch</th>\n",
              "      <th>train_loss</th>\n",
              "      <th>valid_loss</th>\n",
              "      <th>accuracy</th>\n",
              "      <th>time</th>\n",
              "    </tr>\n",
              "  </thead>\n",
              "  <tbody>\n",
              "    <tr>\n",
              "      <td>0</td>\n",
              "      <td>None</td>\n",
              "      <td>None</td>\n",
              "      <td>00:00</td>\n",
              "    </tr>\n",
              "  </tbody>\n",
              "</table>"
            ],
            "text/plain": [
              "<IPython.core.display.HTML object>"
            ]
          },
          "metadata": {
            "tags": []
          }
        },
        {
          "output_type": "execute_result",
          "data": {
            "text/plain": [
              "Sequential (Input shape: ['64 x 3 x 28 x 28'])\n",
              "================================================================\n",
              "Layer (type)         Output Shape         Param #    Trainable \n",
              "================================================================\n",
              "Conv2d               64 x 64 x 14 x 14    9,408      True      \n",
              "________________________________________________________________\n",
              "BatchNorm2d          64 x 64 x 14 x 14    128        True      \n",
              "________________________________________________________________\n",
              "ReLU                 64 x 64 x 14 x 14    0          False     \n",
              "________________________________________________________________\n",
              "MaxPool2d            64 x 64 x 7 x 7      0          False     \n",
              "________________________________________________________________\n",
              "Conv2d               64 x 64 x 7 x 7      36,864     True      \n",
              "________________________________________________________________\n",
              "BatchNorm2d          64 x 64 x 7 x 7      128        True      \n",
              "________________________________________________________________\n",
              "ReLU                 64 x 64 x 7 x 7      0          False     \n",
              "________________________________________________________________\n",
              "Conv2d               64 x 64 x 7 x 7      36,864     True      \n",
              "________________________________________________________________\n",
              "BatchNorm2d          64 x 64 x 7 x 7      128        True      \n",
              "________________________________________________________________\n",
              "Conv2d               64 x 64 x 7 x 7      36,864     True      \n",
              "________________________________________________________________\n",
              "BatchNorm2d          64 x 64 x 7 x 7      128        True      \n",
              "________________________________________________________________\n",
              "ReLU                 64 x 64 x 7 x 7      0          False     \n",
              "________________________________________________________________\n",
              "Conv2d               64 x 64 x 7 x 7      36,864     True      \n",
              "________________________________________________________________\n",
              "BatchNorm2d          64 x 64 x 7 x 7      128        True      \n",
              "________________________________________________________________\n",
              "Conv2d               64 x 64 x 7 x 7      36,864     True      \n",
              "________________________________________________________________\n",
              "BatchNorm2d          64 x 64 x 7 x 7      128        True      \n",
              "________________________________________________________________\n",
              "ReLU                 64 x 64 x 7 x 7      0          False     \n",
              "________________________________________________________________\n",
              "Conv2d               64 x 64 x 7 x 7      36,864     True      \n",
              "________________________________________________________________\n",
              "BatchNorm2d          64 x 64 x 7 x 7      128        True      \n",
              "________________________________________________________________\n",
              "Conv2d               64 x 128 x 4 x 4     73,728     True      \n",
              "________________________________________________________________\n",
              "BatchNorm2d          64 x 128 x 4 x 4     256        True      \n",
              "________________________________________________________________\n",
              "ReLU                 64 x 128 x 4 x 4     0          False     \n",
              "________________________________________________________________\n",
              "Conv2d               64 x 128 x 4 x 4     147,456    True      \n",
              "________________________________________________________________\n",
              "BatchNorm2d          64 x 128 x 4 x 4     256        True      \n",
              "________________________________________________________________\n",
              "Conv2d               64 x 128 x 4 x 4     8,192      True      \n",
              "________________________________________________________________\n",
              "BatchNorm2d          64 x 128 x 4 x 4     256        True      \n",
              "________________________________________________________________\n",
              "Conv2d               64 x 128 x 4 x 4     147,456    True      \n",
              "________________________________________________________________\n",
              "BatchNorm2d          64 x 128 x 4 x 4     256        True      \n",
              "________________________________________________________________\n",
              "ReLU                 64 x 128 x 4 x 4     0          False     \n",
              "________________________________________________________________\n",
              "Conv2d               64 x 128 x 4 x 4     147,456    True      \n",
              "________________________________________________________________\n",
              "BatchNorm2d          64 x 128 x 4 x 4     256        True      \n",
              "________________________________________________________________\n",
              "Conv2d               64 x 128 x 4 x 4     147,456    True      \n",
              "________________________________________________________________\n",
              "BatchNorm2d          64 x 128 x 4 x 4     256        True      \n",
              "________________________________________________________________\n",
              "ReLU                 64 x 128 x 4 x 4     0          False     \n",
              "________________________________________________________________\n",
              "Conv2d               64 x 128 x 4 x 4     147,456    True      \n",
              "________________________________________________________________\n",
              "BatchNorm2d          64 x 128 x 4 x 4     256        True      \n",
              "________________________________________________________________\n",
              "Conv2d               64 x 128 x 4 x 4     147,456    True      \n",
              "________________________________________________________________\n",
              "BatchNorm2d          64 x 128 x 4 x 4     256        True      \n",
              "________________________________________________________________\n",
              "ReLU                 64 x 128 x 4 x 4     0          False     \n",
              "________________________________________________________________\n",
              "Conv2d               64 x 128 x 4 x 4     147,456    True      \n",
              "________________________________________________________________\n",
              "BatchNorm2d          64 x 128 x 4 x 4     256        True      \n",
              "________________________________________________________________\n",
              "Conv2d               64 x 256 x 2 x 2     294,912    True      \n",
              "________________________________________________________________\n",
              "BatchNorm2d          64 x 256 x 2 x 2     512        True      \n",
              "________________________________________________________________\n",
              "ReLU                 64 x 256 x 2 x 2     0          False     \n",
              "________________________________________________________________\n",
              "Conv2d               64 x 256 x 2 x 2     589,824    True      \n",
              "________________________________________________________________\n",
              "BatchNorm2d          64 x 256 x 2 x 2     512        True      \n",
              "________________________________________________________________\n",
              "Conv2d               64 x 256 x 2 x 2     32,768     True      \n",
              "________________________________________________________________\n",
              "BatchNorm2d          64 x 256 x 2 x 2     512        True      \n",
              "________________________________________________________________\n",
              "Conv2d               64 x 256 x 2 x 2     589,824    True      \n",
              "________________________________________________________________\n",
              "BatchNorm2d          64 x 256 x 2 x 2     512        True      \n",
              "________________________________________________________________\n",
              "ReLU                 64 x 256 x 2 x 2     0          False     \n",
              "________________________________________________________________\n",
              "Conv2d               64 x 256 x 2 x 2     589,824    True      \n",
              "________________________________________________________________\n",
              "BatchNorm2d          64 x 256 x 2 x 2     512        True      \n",
              "________________________________________________________________\n",
              "Conv2d               64 x 256 x 2 x 2     589,824    True      \n",
              "________________________________________________________________\n",
              "BatchNorm2d          64 x 256 x 2 x 2     512        True      \n",
              "________________________________________________________________\n",
              "ReLU                 64 x 256 x 2 x 2     0          False     \n",
              "________________________________________________________________\n",
              "Conv2d               64 x 256 x 2 x 2     589,824    True      \n",
              "________________________________________________________________\n",
              "BatchNorm2d          64 x 256 x 2 x 2     512        True      \n",
              "________________________________________________________________\n",
              "Conv2d               64 x 256 x 2 x 2     589,824    True      \n",
              "________________________________________________________________\n",
              "BatchNorm2d          64 x 256 x 2 x 2     512        True      \n",
              "________________________________________________________________\n",
              "ReLU                 64 x 256 x 2 x 2     0          False     \n",
              "________________________________________________________________\n",
              "Conv2d               64 x 256 x 2 x 2     589,824    True      \n",
              "________________________________________________________________\n",
              "BatchNorm2d          64 x 256 x 2 x 2     512        True      \n",
              "________________________________________________________________\n",
              "Conv2d               64 x 256 x 2 x 2     589,824    True      \n",
              "________________________________________________________________\n",
              "BatchNorm2d          64 x 256 x 2 x 2     512        True      \n",
              "________________________________________________________________\n",
              "ReLU                 64 x 256 x 2 x 2     0          False     \n",
              "________________________________________________________________\n",
              "Conv2d               64 x 256 x 2 x 2     589,824    True      \n",
              "________________________________________________________________\n",
              "BatchNorm2d          64 x 256 x 2 x 2     512        True      \n",
              "________________________________________________________________\n",
              "Conv2d               64 x 256 x 2 x 2     589,824    True      \n",
              "________________________________________________________________\n",
              "BatchNorm2d          64 x 256 x 2 x 2     512        True      \n",
              "________________________________________________________________\n",
              "ReLU                 64 x 256 x 2 x 2     0          False     \n",
              "________________________________________________________________\n",
              "Conv2d               64 x 256 x 2 x 2     589,824    True      \n",
              "________________________________________________________________\n",
              "BatchNorm2d          64 x 256 x 2 x 2     512        True      \n",
              "________________________________________________________________\n",
              "Conv2d               64 x 512 x 1 x 1     1,179,648  True      \n",
              "________________________________________________________________\n",
              "BatchNorm2d          64 x 512 x 1 x 1     1,024      True      \n",
              "________________________________________________________________\n",
              "ReLU                 64 x 512 x 1 x 1     0          False     \n",
              "________________________________________________________________\n",
              "Conv2d               64 x 512 x 1 x 1     2,359,296  True      \n",
              "________________________________________________________________\n",
              "BatchNorm2d          64 x 512 x 1 x 1     1,024      True      \n",
              "________________________________________________________________\n",
              "Conv2d               64 x 512 x 1 x 1     131,072    True      \n",
              "________________________________________________________________\n",
              "BatchNorm2d          64 x 512 x 1 x 1     1,024      True      \n",
              "________________________________________________________________\n",
              "Conv2d               64 x 512 x 1 x 1     2,359,296  True      \n",
              "________________________________________________________________\n",
              "BatchNorm2d          64 x 512 x 1 x 1     1,024      True      \n",
              "________________________________________________________________\n",
              "ReLU                 64 x 512 x 1 x 1     0          False     \n",
              "________________________________________________________________\n",
              "Conv2d               64 x 512 x 1 x 1     2,359,296  True      \n",
              "________________________________________________________________\n",
              "BatchNorm2d          64 x 512 x 1 x 1     1,024      True      \n",
              "________________________________________________________________\n",
              "Conv2d               64 x 512 x 1 x 1     2,359,296  True      \n",
              "________________________________________________________________\n",
              "BatchNorm2d          64 x 512 x 1 x 1     1,024      True      \n",
              "________________________________________________________________\n",
              "ReLU                 64 x 512 x 1 x 1     0          False     \n",
              "________________________________________________________________\n",
              "Conv2d               64 x 512 x 1 x 1     2,359,296  True      \n",
              "________________________________________________________________\n",
              "BatchNorm2d          64 x 512 x 1 x 1     1,024      True      \n",
              "________________________________________________________________\n",
              "AdaptiveAvgPool2d    64 x 512 x 1 x 1     0          False     \n",
              "________________________________________________________________\n",
              "AdaptiveMaxPool2d    64 x 512 x 1 x 1     0          False     \n",
              "________________________________________________________________\n",
              "Flatten              64 x 1024            0          False     \n",
              "________________________________________________________________\n",
              "BatchNorm1d          64 x 1024            2,048      True      \n",
              "________________________________________________________________\n",
              "Dropout              64 x 1024            0          False     \n",
              "________________________________________________________________\n",
              "Linear               64 x 512             524,288    True      \n",
              "________________________________________________________________\n",
              "ReLU                 64 x 512             0          False     \n",
              "________________________________________________________________\n",
              "BatchNorm1d          64 x 512             1,024      True      \n",
              "________________________________________________________________\n",
              "Dropout              64 x 512             0          False     \n",
              "________________________________________________________________\n",
              "Linear               64 x 10              5,120      True      \n",
              "________________________________________________________________\n",
              "\n",
              "Total params: 21,817,152\n",
              "Total trainable params: 21,817,152\n",
              "Total non-trainable params: 0\n",
              "\n",
              "Optimizer used: <function Adam at 0x7fbf4b07a440>\n",
              "Loss function: FlattenedLoss of CrossEntropyLoss()\n",
              "\n",
              "Model unfrozen\n",
              "\n",
              "Callbacks:\n",
              "  - TrainEvalCallback\n",
              "  - Recorder\n",
              "  - ProgressCallback"
            ]
          },
          "metadata": {
            "tags": []
          },
          "execution_count": 8
        }
      ]
    },
    {
      "cell_type": "code",
      "metadata": {
        "colab_type": "code",
        "id": "qnla630qFQxV",
        "colab": {},
        "outputId": "da214f72-16c4-4aec-b522-f19e9e77f535"
      },
      "source": [
        "interp = ClassificationInterpretation.from_learner(learn)\n",
        "interp.plot_confusion_matrix()"
      ],
      "execution_count": null,
      "outputs": [
        {
          "output_type": "display_data",
          "data": {
            "text/html": [
              ""
            ],
            "text/plain": [
              "<IPython.core.display.HTML object>"
            ]
          },
          "metadata": {
            "tags": []
          }
        },
        {
          "output_type": "display_data",
          "data": {
            "image/png": "[encoded data removed]",
            "text/plain": [
              "<Figure size 432x288 with 1 Axes>"
            ]
          },
          "metadata": {
            "tags": [],
            "needs_background": "light"
          }
        }
      ]
    },
    {
      "cell_type": "code",
      "metadata": {
        "colab_type": "code",
        "id": "p4R1GcIGHAkj",
        "colab": {}
      },
      "source": [
        "preds,y,losses = learn.get_preds(with_loss=True)\n",
        "interp = ClassificationInterpretation(learn, preds, y, losses)\n",
        "interp.plot_top_losses(9, figsize=(7,7))"
      ],
      "execution_count": null,
      "outputs": []
    },
    {
      "cell_type": "code",
      "metadata": {
        "colab_type": "code",
        "id": "b7LeQHC8-Nnn",
        "colab": {
          "base_uri": "https://localhost:8080/",
          "height": 45
        },
        "outputId": "8797e00b-eab3-4b69-cff0-e4f8e56a7671"
      },
      "source": [
        "test_path = (path/'testing'/'5').ls()[10]\n",
        "test_image = Image.open(test_path)\n",
        "test_image"
      ],
      "execution_count": null,
      "outputs": [
        {
          "output_type": "execute_result",
          "data": {
            "image/png": "[encoded data removed]",
            "text/plain": [
              "<PIL.PngImagePlugin.PngImageFile image mode=L size=28x28 at 0x7F948D4A1710>"
            ]
          },
          "metadata": {
            "tags": []
          },
          "execution_count": 7
        }
      ]
    },
    {
      "cell_type": "code",
      "metadata": {
        "colab_type": "code",
        "id": "liJNj8i3-Nnu",
        "colab": {
          "base_uri": "https://localhost:8080/",
          "height": 85
        },
        "outputId": "71c614db-0481-4c77-81de-21fda0d9f11d"
      },
      "source": [
        "learn.predict(test_path)"
      ],
      "execution_count": null,
      "outputs": [
        {
          "output_type": "display_data",
          "data": {
            "text/html": [
              ""
            ],
            "text/plain": [
              "<IPython.core.display.HTML object>"
            ]
          },
          "metadata": {
            "tags": []
          }
        },
        {
          "output_type": "execute_result",
          "data": {
            "text/plain": [
              "('5',\n",
              " tensor(5),\n",
              " tensor([3.9144e-09, 3.6228e-10, 1.1834e-07, 3.6264e-08, 1.1432e-09, 1.0000e+00,\n",
              "         2.6310e-08, 2.9044e-09, 4.0145e-08, 5.5466e-09]))"
            ]
          },
          "metadata": {
            "tags": []
          },
          "execution_count": 8
        }
      ]
    }
  ]
}