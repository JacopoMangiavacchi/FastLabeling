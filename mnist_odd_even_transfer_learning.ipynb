{
  "nbformat": 4,
  "nbformat_minor": 0,
  "metadata": {
    "jupytext": {
      "split_at_heading": true
    },
    "kernelspec": {
      "display_name": "Python 3",
      "language": "python",
      "name": "python3"
    },
    "language_info": {
      "codemirror_mode": {
        "name": "ipython",
        "version": 3
      },
      "file_extension": ".py",
      "mimetype": "text/x-python",
      "name": "python",
      "nbconvert_exporter": "python",
      "pygments_lexer": "ipython3",
      "version": "3.7.6"
    },
    "colab": {
      "name": "mnist_basics.ipynb",
      "provenance": [],
      "include_colab_link": true
    },
    "accelerator": "GPU"
  },
  "cells": [
    {
      "cell_type": "markdown",
      "metadata": {
        "id": "view-in-github",
        "colab_type": "text"
      },
      "source": [
        "<a href=\"https://colab.research.google.com/github/JacopoMangiavacchi/FastLabeling/blob/master/mnist_odd_even_transfer_learning.ipynb\" target=\"_parent\"><img src=\"https://colab.research.google.com/assets/colab-badge.svg\" alt=\"Open In Colab\"/></a>"
      ]
    },
    {
      "cell_type": "code",
      "metadata": {
        "id": "sAtalHAL-NnO",
        "colab_type": "code",
        "colab": {
          "base_uri": "https://localhost:8080/",
          "height": 748
        },
        "outputId": "3ec2108b-f279-4f74-a464-b1caac40f794"
      },
      "source": [
        "!pip install 'fastai2>=0.0.11'"
      ],
      "execution_count": 1,
      "outputs": [
        {
          "output_type": "stream",
          "text": [
            "Requirement already satisfied: fastai2>=0.0.11 in /usr/local/lib/python3.6/dist-packages (0.0.30)\n",
            "Requirement already satisfied: packaging in /usr/local/lib/python3.6/dist-packages (from fastai2>=0.0.11) (20.4)\n",
            "Requirement already satisfied: spacy in /usr/local/lib/python3.6/dist-packages (from fastai2>=0.0.11) (2.2.4)\n",
            "Requirement already satisfied: pyyaml in /usr/local/lib/python3.6/dist-packages (from fastai2>=0.0.11) (3.13)\n",
            "Requirement already satisfied: torch>=1.6.0 in /usr/local/lib/python3.6/dist-packages (from fastai2>=0.0.11) (1.6.0+cu101)\n",
            "Requirement already satisfied: scipy in /usr/local/lib/python3.6/dist-packages (from fastai2>=0.0.11) (1.4.1)\n",
            "Requirement already satisfied: requests in /usr/local/lib/python3.6/dist-packages (from fastai2>=0.0.11) (2.23.0)\n",
            "Requirement already satisfied: pillow in /usr/local/lib/python3.6/dist-packages (from fastai2>=0.0.11) (7.0.0)\n",
            "Requirement already satisfied: matplotlib in /usr/local/lib/python3.6/dist-packages (from fastai2>=0.0.11) (3.2.2)\n",
            "Requirement already satisfied: torchvision>=0.7 in /usr/local/lib/python3.6/dist-packages (from fastai2>=0.0.11) (0.7.0+cu101)\n",
            "Requirement already satisfied: scikit-learn in /usr/local/lib/python3.6/dist-packages (from fastai2>=0.0.11) (0.22.2.post1)\n",
            "Requirement already satisfied: fastprogress>=0.2.4 in /usr/local/lib/python3.6/dist-packages (from fastai2>=0.0.11) (0.2.5)\n",
            "Requirement already satisfied: pandas in /usr/local/lib/python3.6/dist-packages (from fastai2>=0.0.11) (1.0.5)\n",
            "Requirement already satisfied: pip in /usr/local/lib/python3.6/dist-packages (from fastai2>=0.0.11) (19.3.1)\n",
            "Requirement already satisfied: fastcore>=0.1.34 in /usr/local/lib/python3.6/dist-packages (from fastai2>=0.0.11) (1.0.0)\n",
            "Requirement already satisfied: six in /usr/local/lib/python3.6/dist-packages (from packaging->fastai2>=0.0.11) (1.15.0)\n",
            "Requirement already satisfied: pyparsing>=2.0.2 in /usr/local/lib/python3.6/dist-packages (from packaging->fastai2>=0.0.11) (2.4.7)\n",
            "Requirement already satisfied: tqdm<5.0.0,>=4.38.0 in /usr/local/lib/python3.6/dist-packages (from spacy->fastai2>=0.0.11) (4.41.1)\n",
            "Requirement already satisfied: murmurhash<1.1.0,>=0.28.0 in /usr/local/lib/python3.6/dist-packages (from spacy->fastai2>=0.0.11) (1.0.2)\n",
            "Requirement already satisfied: plac<1.2.0,>=0.9.6 in /usr/local/lib/python3.6/dist-packages (from spacy->fastai2>=0.0.11) (1.1.3)\n",
            "Requirement already satisfied: catalogue<1.1.0,>=0.0.7 in /usr/local/lib/python3.6/dist-packages (from spacy->fastai2>=0.0.11) (1.0.0)\n",
            "Requirement already satisfied: wasabi<1.1.0,>=0.4.0 in /usr/local/lib/python3.6/dist-packages (from spacy->fastai2>=0.0.11) (0.7.1)\n",
            "Requirement already satisfied: preshed<3.1.0,>=3.0.2 in /usr/local/lib/python3.6/dist-packages (from spacy->fastai2>=0.0.11) (3.0.2)\n",
            "Requirement already satisfied: setuptools in /usr/local/lib/python3.6/dist-packages (from spacy->fastai2>=0.0.11) (49.2.0)\n",
            "Requirement already satisfied: blis<0.5.0,>=0.4.0 in /usr/local/lib/python3.6/dist-packages (from spacy->fastai2>=0.0.11) (0.4.1)\n",
            "Requirement already satisfied: thinc==7.4.0 in /usr/local/lib/python3.6/dist-packages (from spacy->fastai2>=0.0.11) (7.4.0)\n",
            "Requirement already satisfied: srsly<1.1.0,>=1.0.2 in /usr/local/lib/python3.6/dist-packages (from spacy->fastai2>=0.0.11) (1.0.2)\n",
            "Requirement already satisfied: numpy>=1.15.0 in /usr/local/lib/python3.6/dist-packages (from spacy->fastai2>=0.0.11) (1.18.5)\n",
            "Requirement already satisfied: cymem<2.1.0,>=2.0.2 in /usr/local/lib/python3.6/dist-packages (from spacy->fastai2>=0.0.11) (2.0.3)\n",
            "Requirement already satisfied: future in /usr/local/lib/python3.6/dist-packages (from torch>=1.6.0->fastai2>=0.0.11) (0.16.0)\n",
            "Requirement already satisfied: chardet<4,>=3.0.2 in /usr/local/lib/python3.6/dist-packages (from requests->fastai2>=0.0.11) (3.0.4)\n",
            "Requirement already satisfied: idna<3,>=2.5 in /usr/local/lib/python3.6/dist-packages (from requests->fastai2>=0.0.11) (2.10)\n",
            "Requirement already satisfied: urllib3!=1.25.0,!=1.25.1,<1.26,>=1.21.1 in /usr/local/lib/python3.6/dist-packages (from requests->fastai2>=0.0.11) (1.24.3)\n",
            "Requirement already satisfied: certifi>=2017.4.17 in /usr/local/lib/python3.6/dist-packages (from requests->fastai2>=0.0.11) (2020.6.20)\n",
            "Requirement already satisfied: python-dateutil>=2.1 in /usr/local/lib/python3.6/dist-packages (from matplotlib->fastai2>=0.0.11) (2.8.1)\n",
            "Requirement already satisfied: kiwisolver>=1.0.1 in /usr/local/lib/python3.6/dist-packages (from matplotlib->fastai2>=0.0.11) (1.2.0)\n",
            "Requirement already satisfied: cycler>=0.10 in /usr/local/lib/python3.6/dist-packages (from matplotlib->fastai2>=0.0.11) (0.10.0)\n",
            "Requirement already satisfied: joblib>=0.11 in /usr/local/lib/python3.6/dist-packages (from scikit-learn->fastai2>=0.0.11) (0.16.0)\n",
            "Requirement already satisfied: pytz>=2017.2 in /usr/local/lib/python3.6/dist-packages (from pandas->fastai2>=0.0.11) (2018.9)\n",
            "Requirement already satisfied: wheel in /usr/local/lib/python3.6/dist-packages (from fastcore>=0.1.34->fastai2>=0.0.11) (0.34.2)\n",
            "Requirement already satisfied: dataclasses in /usr/local/lib/python3.6/dist-packages (from fastcore>=0.1.34->fastai2>=0.0.11) (0.7)\n",
            "Requirement already satisfied: importlib-metadata>=0.20; python_version < \"3.8\" in /usr/local/lib/python3.6/dist-packages (from catalogue<1.1.0,>=0.0.7->spacy->fastai2>=0.0.11) (1.7.0)\n",
            "Requirement already satisfied: zipp>=0.5 in /usr/local/lib/python3.6/dist-packages (from importlib-metadata>=0.20; python_version < \"3.8\"->catalogue<1.1.0,>=0.0.7->spacy->fastai2>=0.0.11) (3.1.0)\n"
          ],
          "name": "stdout"
        }
      ]
    },
    {
      "cell_type": "code",
      "metadata": {
        "id": "JlRcnsN--NnV",
        "colab_type": "code",
        "colab": {}
      },
      "source": [
        "from fastai2.vision.all import *\n",
        "\n",
        "matplotlib.rc('image', cmap='Greys')"
      ],
      "execution_count": 2,
      "outputs": []
    },
    {
      "cell_type": "code",
      "metadata": {
        "id": "8sYFk9VL-Nna",
        "colab_type": "code",
        "colab": {
          "base_uri": "https://localhost:8080/",
          "height": 34
        },
        "outputId": "29eb617d-f40b-4986-8e85-b777185fca2d"
      },
      "source": [
        "path = untar_data(URLs.MNIST)\n",
        "Path.BASE_PATH = path\n",
        "path.ls()"
      ],
      "execution_count": 3,
      "outputs": [
        {
          "output_type": "execute_result",
          "data": {
            "text/plain": [
              "(#9) [Path('oe_training'),Path('500_training'),Path('oe_testing'),Path('100_training'),Path('training'),Path('testing'),Path('30_testing'),Path('100_testing'),Path('600_training')]"
            ]
          },
          "metadata": {
            "tags": []
          },
          "execution_count": 3
        }
      ]
    },
    {
      "cell_type": "code",
      "metadata": {
        "id": "ub70XQdK-Nnj",
        "colab_type": "code",
        "colab": {
          "base_uri": "https://localhost:8080/",
          "height": 34
        },
        "outputId": "b71d773a-2e6e-47c9-8538-13844ff0e88b"
      },
      "source": [
        "(path/'training').ls()"
      ],
      "execution_count": 4,
      "outputs": [
        {
          "output_type": "execute_result",
          "data": {
            "text/plain": [
              "(#10) [Path('training/0'),Path('training/1'),Path('training/7'),Path('training/8'),Path('training/6'),Path('training/3'),Path('training/2'),Path('training/9'),Path('training/4'),Path('training/5')]"
            ]
          },
          "metadata": {
            "tags": []
          },
          "execution_count": 4
        }
      ]
    },
    {
      "cell_type": "code",
      "metadata": {
        "id": "6BTNAmZ9UghS",
        "colab_type": "code",
        "colab": {}
      },
      "source": [
        "from shutil import copy2, rmtree\n",
        "\n",
        "def copy_files(path, source_folder, destination_folder, sub_folders_list = [], random_select = False, max_files_to_copy = 0):\n",
        "  def copy_folder_path(source_path, destination_path):\n",
        "    source_files = source_path.ls()\n",
        "    list_files = list(range(len(source_files)))\n",
        "    if random_select:\n",
        "      random.shuffle(list_files)\n",
        "    count = 0\n",
        "    for i in list_files:\n",
        "      copy2(source_files[i], destination_path)\n",
        "      count += 1\n",
        "      if max_files_to_copy > 0 and count >= max_files_to_copy:\n",
        "        break\n",
        "  \n",
        "  (path/destination_folder).mkdir(exist_ok=True)\n",
        "  if len(sub_folders_list) > 0:\n",
        "    for i in sub_folders_list:\n",
        "      folder = source_folder + '/' + str(i)\n",
        "      copy_folder_path(path/folder, path/destination_folder)\n",
        "  else:\n",
        "    copy_folder_path(path/source_folder, path/destination_folder)\n"
      ],
      "execution_count": 5,
      "outputs": []
    },
    {
      "cell_type": "code",
      "metadata": {
        "id": "0YFUdt-BUfoG",
        "colab_type": "code",
        "colab": {
          "base_uri": "https://localhost:8080/",
          "height": 34
        },
        "outputId": "d4d05d3a-765c-402e-c98a-c212fa7eec35"
      },
      "source": [
        "rmtree(path/'oe_training', ignore_errors=true)\n",
        "rmtree(path/'oe_testing', ignore_errors=true)\n",
        "\n",
        "(path/'oe_training').mkdir(exist_ok=True)\n",
        "(path/'oe_testing').mkdir(exist_ok=True)\n",
        "path.ls()"
      ],
      "execution_count": 6,
      "outputs": [
        {
          "output_type": "execute_result",
          "data": {
            "text/plain": [
              "(#9) [Path('oe_training'),Path('500_training'),Path('oe_testing'),Path('100_training'),Path('training'),Path('testing'),Path('30_testing'),Path('100_testing'),Path('600_training')]"
            ]
          },
          "metadata": {
            "tags": []
          },
          "execution_count": 6
        }
      ]
    },
    {
      "cell_type": "code",
      "metadata": {
        "id": "XMwcOJHcqwBy",
        "colab_type": "code",
        "colab": {}
      },
      "source": [
        "copy_files(path, 'training', 'oe_training/odd', [0, 2, 4, 6, 8])\n",
        "copy_files(path, 'training', 'oe_training/even', [1, 3, 5, 7, 9])\n",
        "copy_files(path, 'testing', 'oe_testing/odd', [0, 2, 4, 6, 8])\n",
        "copy_files(path, 'testing', 'oe_testing/even', [1, 3, 5, 7, 9])\n"
      ],
      "execution_count": 7,
      "outputs": []
    },
    {
      "cell_type": "code",
      "metadata": {
        "id": "6ZWtOZHfUgqv",
        "colab_type": "code",
        "colab": {
          "base_uri": "https://localhost:8080/",
          "height": 105
        },
        "outputId": "2ee5b2c9-0e7a-4803-cdbe-2a1d535fceeb"
      },
      "source": [
        "(path/'oe_training/odd').ls(), (path/'oe_training/even').ls(), (path/'oe_testing/odd').ls(), (path/'oe_testing/even').ls()"
      ],
      "execution_count": 8,
      "outputs": [
        {
          "output_type": "execute_result",
          "data": {
            "text/plain": [
              "((#29492) [Path('oe_training/odd/55152.png'),Path('oe_training/odd/59372.png'),Path('oe_training/odd/17528.png'),Path('oe_training/odd/51986.png'),Path('oe_training/odd/47486.png'),Path('oe_training/odd/40749.png'),Path('oe_training/odd/49398.png'),Path('oe_training/odd/37646.png'),Path('oe_training/odd/37184.png'),Path('oe_training/odd/51565.png')...],\n",
              " (#30508) [Path('oe_training/even/59242.png'),Path('oe_training/even/26571.png'),Path('oe_training/even/47314.png'),Path('oe_training/even/3751.png'),Path('oe_training/even/44687.png'),Path('oe_training/even/5668.png'),Path('oe_training/even/31134.png'),Path('oe_training/even/780.png'),Path('oe_training/even/8330.png'),Path('oe_training/even/44534.png')...],\n",
              " (#4926) [Path('oe_testing/odd/8330.png'),Path('oe_testing/odd/6596.png'),Path('oe_testing/odd/6547.png'),Path('oe_testing/odd/542.png'),Path('oe_testing/odd/5393.png'),Path('oe_testing/odd/285.png'),Path('oe_testing/odd/8310.png'),Path('oe_testing/odd/156.png'),Path('oe_testing/odd/6488.png'),Path('oe_testing/odd/6711.png')...],\n",
              " (#5074) [Path('oe_testing/even/3751.png'),Path('oe_testing/even/5668.png'),Path('oe_testing/even/780.png'),Path('oe_testing/even/678.png'),Path('oe_testing/even/348.png'),Path('oe_testing/even/6522.png'),Path('oe_testing/even/5073.png'),Path('oe_testing/even/307.png'),Path('oe_testing/even/6692.png'),Path('oe_testing/even/8791.png')...])"
            ]
          },
          "metadata": {
            "tags": []
          },
          "execution_count": 8
        }
      ]
    },
    {
      "cell_type": "code",
      "metadata": {
        "id": "jQNHvlCILj2B",
        "colab_type": "code",
        "colab": {
          "base_uri": "https://localhost:8080/",
          "height": 34
        },
        "outputId": "4cca06d0-add4-49d4-b01d-0c0c81505fb9"
      },
      "source": [
        "size_traning = 600\n",
        "size_testing = 100\n",
        "size_training_name = str(size_traning) + '_training'\n",
        "size_testing_name = str(size_testing) + '_testing'\n",
        "\n",
        "rmtree(path/size_training_name, ignore_errors=true)\n",
        "rmtree(path/size_testing_name, ignore_errors=true)\n",
        "\n",
        "(path/size_training_name).mkdir(exist_ok=True)\n",
        "(path/size_testing_name).mkdir(exist_ok=True)\n",
        "path.ls()"
      ],
      "execution_count": 9,
      "outputs": [
        {
          "output_type": "execute_result",
          "data": {
            "text/plain": [
              "(#9) [Path('oe_training'),Path('500_training'),Path('oe_testing'),Path('100_training'),Path('training'),Path('testing'),Path('30_testing'),Path('100_testing'),Path('600_training')]"
            ]
          },
          "metadata": {
            "tags": []
          },
          "execution_count": 9
        }
      ]
    },
    {
      "cell_type": "code",
      "metadata": {
        "id": "23StteY5LkPw",
        "colab_type": "code",
        "colab": {}
      },
      "source": [
        "for i in range(10):\n",
        "  copy_files(path, 'training/' + str(i), size_training_name + '/' + str(i), random_select=True, max_files_to_copy=size_traning)\n",
        "  copy_files(path, 'testing/' + str(i), size_testing_name + '/' + str(i), random_select=True, max_files_to_copy=size_testing)"
      ],
      "execution_count": 10,
      "outputs": []
    },
    {
      "cell_type": "code",
      "metadata": {
        "id": "FocObiS7-Nnp",
        "colab_type": "code",
        "colab": {
          "base_uri": "https://localhost:8080/",
          "height": 71
        },
        "outputId": "82b8969b-6294-432e-c9c8-d1ae7f9bc4f6"
      },
      "source": [
        "dls = ImageDataLoaders.from_folder(path, train='oe_training', valid='oe_testing')\n",
        "\n",
        "dls.train_ds, dls.valid_ds"
      ],
      "execution_count": 11,
      "outputs": [
        {
          "output_type": "execute_result",
          "data": {
            "text/plain": [
              "((#60000) [(PILImage mode=RGB size=28x28, TensorCategory(1)),(PILImage mode=RGB size=28x28, TensorCategory(1)),(PILImage mode=RGB size=28x28, TensorCategory(1)),(PILImage mode=RGB size=28x28, TensorCategory(1)),(PILImage mode=RGB size=28x28, TensorCategory(1)),(PILImage mode=RGB size=28x28, TensorCategory(1)),(PILImage mode=RGB size=28x28, TensorCategory(1)),(PILImage mode=RGB size=28x28, TensorCategory(1)),(PILImage mode=RGB size=28x28, TensorCategory(1)),(PILImage mode=RGB size=28x28, TensorCategory(1))...],\n",
              " (#10000) [(PILImage mode=RGB size=28x28, TensorCategory(1)),(PILImage mode=RGB size=28x28, TensorCategory(1)),(PILImage mode=RGB size=28x28, TensorCategory(1)),(PILImage mode=RGB size=28x28, TensorCategory(1)),(PILImage mode=RGB size=28x28, TensorCategory(1)),(PILImage mode=RGB size=28x28, TensorCategory(1)),(PILImage mode=RGB size=28x28, TensorCategory(1)),(PILImage mode=RGB size=28x28, TensorCategory(1)),(PILImage mode=RGB size=28x28, TensorCategory(1)),(PILImage mode=RGB size=28x28, TensorCategory(1))...])"
            ]
          },
          "metadata": {
            "tags": []
          },
          "execution_count": 11
        }
      ]
    },
    {
      "cell_type": "code",
      "metadata": {
        "id": "j4MFv4TJ-Nnt",
        "colab_type": "code",
        "colab": {
          "base_uri": "https://localhost:8080/",
          "height": 205
        },
        "outputId": "52c491e6-b232-4658-d83a-d7aa8cbe648d"
      },
      "source": [
        "learn = cnn_learner(dls, resnet34, metrics=accuracy)\n",
        "learn.fine_tune(3)\n"
      ],
      "execution_count": 12,
      "outputs": [
        {
          "output_type": "display_data",
          "data": {
            "text/html": [
              "<table border=\"1\" class=\"dataframe\">\n",
              "  <thead>\n",
              "    <tr style=\"text-align: left;\">\n",
              "      <th>epoch</th>\n",
              "      <th>train_loss</th>\n",
              "      <th>valid_loss</th>\n",
              "      <th>accuracy</th>\n",
              "      <th>time</th>\n",
              "    </tr>\n",
              "  </thead>\n",
              "  <tbody>\n",
              "    <tr>\n",
              "      <td>0</td>\n",
              "      <td>0.286567</td>\n",
              "      <td>0.204669</td>\n",
              "      <td>0.920000</td>\n",
              "      <td>01:55</td>\n",
              "    </tr>\n",
              "  </tbody>\n",
              "</table>"
            ],
            "text/plain": [
              "<IPython.core.display.HTML object>"
            ]
          },
          "metadata": {
            "tags": []
          }
        },
        {
          "output_type": "display_data",
          "data": {
            "text/html": [
              "<table border=\"1\" class=\"dataframe\">\n",
              "  <thead>\n",
              "    <tr style=\"text-align: left;\">\n",
              "      <th>epoch</th>\n",
              "      <th>train_loss</th>\n",
              "      <th>valid_loss</th>\n",
              "      <th>accuracy</th>\n",
              "      <th>time</th>\n",
              "    </tr>\n",
              "  </thead>\n",
              "  <tbody>\n",
              "    <tr>\n",
              "      <td>0</td>\n",
              "      <td>0.051328</td>\n",
              "      <td>0.025915</td>\n",
              "      <td>0.991300</td>\n",
              "      <td>02:06</td>\n",
              "    </tr>\n",
              "    <tr>\n",
              "      <td>1</td>\n",
              "      <td>0.025484</td>\n",
              "      <td>0.014906</td>\n",
              "      <td>0.994800</td>\n",
              "      <td>02:04</td>\n",
              "    </tr>\n",
              "    <tr>\n",
              "      <td>2</td>\n",
              "      <td>0.008717</td>\n",
              "      <td>0.013720</td>\n",
              "      <td>0.995500</td>\n",
              "      <td>02:05</td>\n",
              "    </tr>\n",
              "  </tbody>\n",
              "</table>"
            ],
            "text/plain": [
              "<IPython.core.display.HTML object>"
            ]
          },
          "metadata": {
            "tags": []
          }
        }
      ]
    },
    {
      "cell_type": "code",
      "metadata": {
        "id": "mkoTV7n2wa-p",
        "colab_type": "code",
        "colab": {
          "base_uri": "https://localhost:8080/",
          "height": 71
        },
        "outputId": "ca246c58-0c30-4ce4-8448-bc32486a8d04"
      },
      "source": [
        "dls2 = ImageDataLoaders.from_folder(path, train=size_training_name, valid=size_testing_name)\n",
        "\n",
        "dls2.train_ds, dls2.valid_ds"
      ],
      "execution_count": 13,
      "outputs": [
        {
          "output_type": "execute_result",
          "data": {
            "text/plain": [
              "((#6000) [(PILImage mode=RGB size=28x28, TensorCategory(0)),(PILImage mode=RGB size=28x28, TensorCategory(0)),(PILImage mode=RGB size=28x28, TensorCategory(0)),(PILImage mode=RGB size=28x28, TensorCategory(0)),(PILImage mode=RGB size=28x28, TensorCategory(0)),(PILImage mode=RGB size=28x28, TensorCategory(0)),(PILImage mode=RGB size=28x28, TensorCategory(0)),(PILImage mode=RGB size=28x28, TensorCategory(0)),(PILImage mode=RGB size=28x28, TensorCategory(0)),(PILImage mode=RGB size=28x28, TensorCategory(0))...],\n",
              " (#1000) [(PILImage mode=RGB size=28x28, TensorCategory(0)),(PILImage mode=RGB size=28x28, TensorCategory(0)),(PILImage mode=RGB size=28x28, TensorCategory(0)),(PILImage mode=RGB size=28x28, TensorCategory(0)),(PILImage mode=RGB size=28x28, TensorCategory(0)),(PILImage mode=RGB size=28x28, TensorCategory(0)),(PILImage mode=RGB size=28x28, TensorCategory(0)),(PILImage mode=RGB size=28x28, TensorCategory(0)),(PILImage mode=RGB size=28x28, TensorCategory(0)),(PILImage mode=RGB size=28x28, TensorCategory(0))...])"
            ]
          },
          "metadata": {
            "tags": []
          },
          "execution_count": 13
        }
      ]
    },
    {
      "cell_type": "code",
      "metadata": {
        "id": "GcrL0SWQwcLa",
        "colab_type": "code",
        "colab": {
          "base_uri": "https://localhost:8080/",
          "height": 732
        },
        "outputId": "77d5c816-e3e3-45ce-ad55-cb3b701f6ff8"
      },
      "source": [
        "learn2 = cnn_learner(dls2, resnet34, metrics=accuracy, custom_head=learn.model)\n",
        "learn2.fine_tune(20)\n",
        "\n",
        "# learn2 = Learner(dls2, learn.model, metrics=accuracy) #, loss_func=CrossEntropyLossFlat(), splitter=default_split)\n",
        "# learn2.fine_tune(20)\n"
      ],
      "execution_count": 14,
      "outputs": [
        {
          "output_type": "display_data",
          "data": {
            "text/html": [
              "<table border=\"1\" class=\"dataframe\">\n",
              "  <thead>\n",
              "    <tr style=\"text-align: left;\">\n",
              "      <th>epoch</th>\n",
              "      <th>train_loss</th>\n",
              "      <th>valid_loss</th>\n",
              "      <th>accuracy</th>\n",
              "      <th>time</th>\n",
              "    </tr>\n",
              "  </thead>\n",
              "  <tbody>\n",
              "    <tr>\n",
              "      <td>0</td>\n",
              "      <td>1.881346</td>\n",
              "      <td>0.961088</td>\n",
              "      <td>0.706000</td>\n",
              "      <td>00:11</td>\n",
              "    </tr>\n",
              "  </tbody>\n",
              "</table>"
            ],
            "text/plain": [
              "<IPython.core.display.HTML object>"
            ]
          },
          "metadata": {
            "tags": []
          }
        },
        {
          "output_type": "display_data",
          "data": {
            "text/html": [
              "<table border=\"1\" class=\"dataframe\">\n",
              "  <thead>\n",
              "    <tr style=\"text-align: left;\">\n",
              "      <th>epoch</th>\n",
              "      <th>train_loss</th>\n",
              "      <th>valid_loss</th>\n",
              "      <th>accuracy</th>\n",
              "      <th>time</th>\n",
              "    </tr>\n",
              "  </thead>\n",
              "  <tbody>\n",
              "    <tr>\n",
              "      <td>0</td>\n",
              "      <td>0.940496</td>\n",
              "      <td>0.496311</td>\n",
              "      <td>0.851000</td>\n",
              "      <td>00:12</td>\n",
              "    </tr>\n",
              "    <tr>\n",
              "      <td>1</td>\n",
              "      <td>0.540501</td>\n",
              "      <td>0.316847</td>\n",
              "      <td>0.903000</td>\n",
              "      <td>00:12</td>\n",
              "    </tr>\n",
              "    <tr>\n",
              "      <td>2</td>\n",
              "      <td>0.342778</td>\n",
              "      <td>0.220564</td>\n",
              "      <td>0.933000</td>\n",
              "      <td>00:12</td>\n",
              "    </tr>\n",
              "    <tr>\n",
              "      <td>3</td>\n",
              "      <td>0.213612</td>\n",
              "      <td>0.174743</td>\n",
              "      <td>0.949000</td>\n",
              "      <td>00:13</td>\n",
              "    </tr>\n",
              "    <tr>\n",
              "      <td>4</td>\n",
              "      <td>0.154118</td>\n",
              "      <td>0.170183</td>\n",
              "      <td>0.956000</td>\n",
              "      <td>00:13</td>\n",
              "    </tr>\n",
              "    <tr>\n",
              "      <td>5</td>\n",
              "      <td>0.130449</td>\n",
              "      <td>0.143366</td>\n",
              "      <td>0.959000</td>\n",
              "      <td>00:13</td>\n",
              "    </tr>\n",
              "    <tr>\n",
              "      <td>6</td>\n",
              "      <td>0.101436</td>\n",
              "      <td>0.165903</td>\n",
              "      <td>0.955000</td>\n",
              "      <td>00:13</td>\n",
              "    </tr>\n",
              "    <tr>\n",
              "      <td>7</td>\n",
              "      <td>0.068811</td>\n",
              "      <td>0.140903</td>\n",
              "      <td>0.962000</td>\n",
              "      <td>00:13</td>\n",
              "    </tr>\n",
              "    <tr>\n",
              "      <td>8</td>\n",
              "      <td>0.059893</td>\n",
              "      <td>0.138283</td>\n",
              "      <td>0.962000</td>\n",
              "      <td>00:12</td>\n",
              "    </tr>\n",
              "    <tr>\n",
              "      <td>9</td>\n",
              "      <td>0.047553</td>\n",
              "      <td>0.135314</td>\n",
              "      <td>0.966000</td>\n",
              "      <td>00:12</td>\n",
              "    </tr>\n",
              "    <tr>\n",
              "      <td>10</td>\n",
              "      <td>0.030575</td>\n",
              "      <td>0.136225</td>\n",
              "      <td>0.968000</td>\n",
              "      <td>00:13</td>\n",
              "    </tr>\n",
              "    <tr>\n",
              "      <td>11</td>\n",
              "      <td>0.035868</td>\n",
              "      <td>0.135319</td>\n",
              "      <td>0.973000</td>\n",
              "      <td>00:13</td>\n",
              "    </tr>\n",
              "    <tr>\n",
              "      <td>12</td>\n",
              "      <td>0.024097</td>\n",
              "      <td>0.114199</td>\n",
              "      <td>0.972000</td>\n",
              "      <td>00:13</td>\n",
              "    </tr>\n",
              "    <tr>\n",
              "      <td>13</td>\n",
              "      <td>0.019757</td>\n",
              "      <td>0.126182</td>\n",
              "      <td>0.969000</td>\n",
              "      <td>00:13</td>\n",
              "    </tr>\n",
              "    <tr>\n",
              "      <td>14</td>\n",
              "      <td>0.012565</td>\n",
              "      <td>0.114666</td>\n",
              "      <td>0.971000</td>\n",
              "      <td>00:13</td>\n",
              "    </tr>\n",
              "    <tr>\n",
              "      <td>15</td>\n",
              "      <td>0.007118</td>\n",
              "      <td>0.120883</td>\n",
              "      <td>0.970000</td>\n",
              "      <td>00:13</td>\n",
              "    </tr>\n",
              "    <tr>\n",
              "      <td>16</td>\n",
              "      <td>0.004842</td>\n",
              "      <td>0.116830</td>\n",
              "      <td>0.970000</td>\n",
              "      <td>00:13</td>\n",
              "    </tr>\n",
              "    <tr>\n",
              "      <td>17</td>\n",
              "      <td>0.003282</td>\n",
              "      <td>0.110445</td>\n",
              "      <td>0.970000</td>\n",
              "      <td>00:13</td>\n",
              "    </tr>\n",
              "    <tr>\n",
              "      <td>18</td>\n",
              "      <td>0.003031</td>\n",
              "      <td>0.114459</td>\n",
              "      <td>0.972000</td>\n",
              "      <td>00:13</td>\n",
              "    </tr>\n",
              "    <tr>\n",
              "      <td>19</td>\n",
              "      <td>0.003270</td>\n",
              "      <td>0.103276</td>\n",
              "      <td>0.971000</td>\n",
              "      <td>00:13</td>\n",
              "    </tr>\n",
              "  </tbody>\n",
              "</table>"
            ],
            "text/plain": [
              "<IPython.core.display.HTML object>"
            ]
          },
          "metadata": {
            "tags": []
          }
        }
      ]
    },
    {
      "cell_type": "code",
      "metadata": {
        "id": "b7LeQHC8-Nnn",
        "colab_type": "code",
        "colab": {
          "base_uri": "https://localhost:8080/",
          "height": 45
        },
        "outputId": "dc6c8f9a-c26d-4a20-879f-9ff28af8812c"
      },
      "source": [
        "test_path = (path/'testing'/'5').ls()[10]\n",
        "test_image = Image.open(test_path)\n",
        "test_image"
      ],
      "execution_count": 15,
      "outputs": [
        {
          "output_type": "execute_result",
          "data": {
            "image/png": "[encoded data removed]",
            "text/plain": [
              "<PIL.PngImagePlugin.PngImageFile image mode=L size=28x28 at 0x7FDBF03B2E10>"
            ]
          },
          "metadata": {
            "tags": []
          },
          "execution_count": 15
        }
      ]
    },
    {
      "cell_type": "code",
      "metadata": {
        "id": "liJNj8i3-Nnu",
        "colab_type": "code",
        "colab": {
          "base_uri": "https://localhost:8080/",
          "height": 85
        },
        "outputId": "398930dc-2930-421e-edba-81fbc1c43df7"
      },
      "source": [
        "learn2.predict(test_path)"
      ],
      "execution_count": 16,
      "outputs": [
        {
          "output_type": "display_data",
          "data": {
            "text/html": [
              ""
            ],
            "text/plain": [
              "<IPython.core.display.HTML object>"
            ]
          },
          "metadata": {
            "tags": []
          }
        },
        {
          "output_type": "execute_result",
          "data": {
            "text/plain": [
              "('5',\n",
              " tensor(5),\n",
              " tensor([3.2598e-05, 4.0974e-06, 6.1626e-05, 3.3996e-03, 9.6390e-05, 9.9623e-01,\n",
              "         2.0054e-05, 1.5249e-05, 9.1796e-05, 5.2152e-05]))"
            ]
          },
          "metadata": {
            "tags": []
          },
          "execution_count": 16
        }
      ]
    },
    {
      "cell_type": "code",
      "metadata": {
        "id": "a6N8UKDI0hFA",
        "colab_type": "code",
        "colab": {
          "base_uri": "https://localhost:8080/",
          "height": 732
        },
        "outputId": "a7c8939a-7bce-4eb6-bc48-e600335d713d"
      },
      "source": [
        "learn3 = cnn_learner(dls2, resnet34, metrics=accuracy)\n",
        "learn3.fine_tune(20)"
      ],
      "execution_count": 18,
      "outputs": [
        {
          "output_type": "display_data",
          "data": {
            "text/html": [
              "<table border=\"1\" class=\"dataframe\">\n",
              "  <thead>\n",
              "    <tr style=\"text-align: left;\">\n",
              "      <th>epoch</th>\n",
              "      <th>train_loss</th>\n",
              "      <th>valid_loss</th>\n",
              "      <th>accuracy</th>\n",
              "      <th>time</th>\n",
              "    </tr>\n",
              "  </thead>\n",
              "  <tbody>\n",
              "    <tr>\n",
              "      <td>0</td>\n",
              "      <td>1.917729</td>\n",
              "      <td>1.063839</td>\n",
              "      <td>0.700000</td>\n",
              "      <td>00:11</td>\n",
              "    </tr>\n",
              "  </tbody>\n",
              "</table>"
            ],
            "text/plain": [
              "<IPython.core.display.HTML object>"
            ]
          },
          "metadata": {
            "tags": []
          }
        },
        {
          "output_type": "display_data",
          "data": {
            "text/html": [
              "<table border=\"1\" class=\"dataframe\">\n",
              "  <thead>\n",
              "    <tr style=\"text-align: left;\">\n",
              "      <th>epoch</th>\n",
              "      <th>train_loss</th>\n",
              "      <th>valid_loss</th>\n",
              "      <th>accuracy</th>\n",
              "      <th>time</th>\n",
              "    </tr>\n",
              "  </thead>\n",
              "  <tbody>\n",
              "    <tr>\n",
              "      <td>0</td>\n",
              "      <td>0.913715</td>\n",
              "      <td>0.531681</td>\n",
              "      <td>0.837000</td>\n",
              "      <td>00:12</td>\n",
              "    </tr>\n",
              "    <tr>\n",
              "      <td>1</td>\n",
              "      <td>0.536029</td>\n",
              "      <td>0.324207</td>\n",
              "      <td>0.903000</td>\n",
              "      <td>00:13</td>\n",
              "    </tr>\n",
              "    <tr>\n",
              "      <td>2</td>\n",
              "      <td>0.357231</td>\n",
              "      <td>0.226011</td>\n",
              "      <td>0.933000</td>\n",
              "      <td>00:12</td>\n",
              "    </tr>\n",
              "    <tr>\n",
              "      <td>3</td>\n",
              "      <td>0.211974</td>\n",
              "      <td>0.217641</td>\n",
              "      <td>0.939000</td>\n",
              "      <td>00:12</td>\n",
              "    </tr>\n",
              "    <tr>\n",
              "      <td>4</td>\n",
              "      <td>0.158523</td>\n",
              "      <td>0.167494</td>\n",
              "      <td>0.951000</td>\n",
              "      <td>00:12</td>\n",
              "    </tr>\n",
              "    <tr>\n",
              "      <td>5</td>\n",
              "      <td>0.139966</td>\n",
              "      <td>0.144799</td>\n",
              "      <td>0.954000</td>\n",
              "      <td>00:12</td>\n",
              "    </tr>\n",
              "    <tr>\n",
              "      <td>6</td>\n",
              "      <td>0.112256</td>\n",
              "      <td>0.109081</td>\n",
              "      <td>0.968000</td>\n",
              "      <td>00:12</td>\n",
              "    </tr>\n",
              "    <tr>\n",
              "      <td>7</td>\n",
              "      <td>0.072832</td>\n",
              "      <td>0.129066</td>\n",
              "      <td>0.964000</td>\n",
              "      <td>00:12</td>\n",
              "    </tr>\n",
              "    <tr>\n",
              "      <td>8</td>\n",
              "      <td>0.056299</td>\n",
              "      <td>0.121241</td>\n",
              "      <td>0.968000</td>\n",
              "      <td>00:12</td>\n",
              "    </tr>\n",
              "    <tr>\n",
              "      <td>9</td>\n",
              "      <td>0.043085</td>\n",
              "      <td>0.152783</td>\n",
              "      <td>0.963000</td>\n",
              "      <td>00:12</td>\n",
              "    </tr>\n",
              "    <tr>\n",
              "      <td>10</td>\n",
              "      <td>0.043516</td>\n",
              "      <td>0.117191</td>\n",
              "      <td>0.968000</td>\n",
              "      <td>00:12</td>\n",
              "    </tr>\n",
              "    <tr>\n",
              "      <td>11</td>\n",
              "      <td>0.035373</td>\n",
              "      <td>0.131453</td>\n",
              "      <td>0.968000</td>\n",
              "      <td>00:12</td>\n",
              "    </tr>\n",
              "    <tr>\n",
              "      <td>12</td>\n",
              "      <td>0.027939</td>\n",
              "      <td>0.104290</td>\n",
              "      <td>0.974000</td>\n",
              "      <td>00:12</td>\n",
              "    </tr>\n",
              "    <tr>\n",
              "      <td>13</td>\n",
              "      <td>0.020269</td>\n",
              "      <td>0.093666</td>\n",
              "      <td>0.975000</td>\n",
              "      <td>00:12</td>\n",
              "    </tr>\n",
              "    <tr>\n",
              "      <td>14</td>\n",
              "      <td>0.010956</td>\n",
              "      <td>0.081557</td>\n",
              "      <td>0.976000</td>\n",
              "      <td>00:12</td>\n",
              "    </tr>\n",
              "    <tr>\n",
              "      <td>15</td>\n",
              "      <td>0.007319</td>\n",
              "      <td>0.082271</td>\n",
              "      <td>0.976000</td>\n",
              "      <td>00:12</td>\n",
              "    </tr>\n",
              "    <tr>\n",
              "      <td>16</td>\n",
              "      <td>0.006657</td>\n",
              "      <td>0.096824</td>\n",
              "      <td>0.974000</td>\n",
              "      <td>00:12</td>\n",
              "    </tr>\n",
              "    <tr>\n",
              "      <td>17</td>\n",
              "      <td>0.006202</td>\n",
              "      <td>0.084970</td>\n",
              "      <td>0.975000</td>\n",
              "      <td>00:12</td>\n",
              "    </tr>\n",
              "    <tr>\n",
              "      <td>18</td>\n",
              "      <td>0.005425</td>\n",
              "      <td>0.081646</td>\n",
              "      <td>0.976000</td>\n",
              "      <td>00:12</td>\n",
              "    </tr>\n",
              "    <tr>\n",
              "      <td>19</td>\n",
              "      <td>0.005847</td>\n",
              "      <td>0.083968</td>\n",
              "      <td>0.978000</td>\n",
              "      <td>00:12</td>\n",
              "    </tr>\n",
              "  </tbody>\n",
              "</table>"
            ],
            "text/plain": [
              "<IPython.core.display.HTML object>"
            ]
          },
          "metadata": {
            "tags": []
          }
        }
      ]
    }
  ]
}