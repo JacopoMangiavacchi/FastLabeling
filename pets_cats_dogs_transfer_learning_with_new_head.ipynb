{
  "nbformat": 4,
  "nbformat_minor": 0,
  "metadata": {
    "accelerator": "GPU",
    "colab": {
      "name": "mnist_basics.ipynb",
      "provenance": [],
      "include_colab_link": true
    },
    "jupytext": {
      "split_at_heading": true
    },
    "kernelspec": {
      "display_name": "Python 3",
      "language": "python",
      "name": "python3"
    },
    "language_info": {
      "codemirror_mode": {
        "name": "ipython",
        "version": 3
      },
      "file_extension": ".py",
      "mimetype": "text/x-python",
      "name": "python",
      "nbconvert_exporter": "python",
      "pygments_lexer": "ipython3",
      "version": "3.7.6"
    },
    "widgets": {
      "application/vnd.jupyter.widget-state+json": {
        "3b9a55955fe4468e89f9266835d25aa7": {
          "model_module": "@jupyter-widgets/controls",
          "model_name": "HBoxModel",
          "state": {
            "_view_name": "HBoxView",
            "_dom_classes": [],
            "_model_name": "HBoxModel",
            "_view_module": "@jupyter-widgets/controls",
            "_model_module_version": "1.5.0",
            "_view_count": null,
            "_view_module_version": "1.5.0",
            "box_style": "",
            "layout": "IPY_MODEL_4745fbd0eeec458ab8610eeb5faa77df",
            "_model_module": "@jupyter-widgets/controls",
            "children": [
              "IPY_MODEL_45105af78549497c966977933f6f033f",
              "IPY_MODEL_319cf54db369443ab8e049d84f5b7045"
            ]
          }
        },
        "4745fbd0eeec458ab8610eeb5faa77df": {
          "model_module": "@jupyter-widgets/base",
          "model_name": "LayoutModel",
          "state": {
            "_view_name": "LayoutView",
            "grid_template_rows": null,
            "right": null,
            "justify_content": null,
            "_view_module": "@jupyter-widgets/base",
            "overflow": null,
            "_model_module_version": "1.2.0",
            "_view_count": null,
            "flex_flow": null,
            "width": null,
            "min_width": null,
            "border": null,
            "align_items": null,
            "bottom": null,
            "_model_module": "@jupyter-widgets/base",
            "top": null,
            "grid_column": null,
            "overflow_y": null,
            "overflow_x": null,
            "grid_auto_flow": null,
            "grid_area": null,
            "grid_template_columns": null,
            "flex": null,
            "_model_name": "LayoutModel",
            "justify_items": null,
            "grid_row": null,
            "max_height": null,
            "align_content": null,
            "visibility": null,
            "align_self": null,
            "height": null,
            "min_height": null,
            "padding": null,
            "grid_auto_rows": null,
            "grid_gap": null,
            "max_width": null,
            "order": null,
            "_view_module_version": "1.2.0",
            "grid_template_areas": null,
            "object_position": null,
            "object_fit": null,
            "grid_auto_columns": null,
            "margin": null,
            "display": null,
            "left": null
          }
        },
        "45105af78549497c966977933f6f033f": {
          "model_module": "@jupyter-widgets/controls",
          "model_name": "FloatProgressModel",
          "state": {
            "_view_name": "ProgressView",
            "style": "IPY_MODEL_12ad24c982c143afb83a51c67951a154",
            "_dom_classes": [],
            "description": "100%",
            "_model_name": "FloatProgressModel",
            "bar_style": "success",
            "max": 87306240,
            "_view_module": "@jupyter-widgets/controls",
            "_model_module_version": "1.5.0",
            "value": 87306240,
            "_view_count": null,
            "_view_module_version": "1.5.0",
            "orientation": "horizontal",
            "min": 0,
            "description_tooltip": null,
            "_model_module": "@jupyter-widgets/controls",
            "layout": "IPY_MODEL_64fdd89a066d4d749ccbf832371f613c"
          }
        },
        "319cf54db369443ab8e049d84f5b7045": {
          "model_module": "@jupyter-widgets/controls",
          "model_name": "HTMLModel",
          "state": {
            "_view_name": "HTMLView",
            "style": "IPY_MODEL_c2ea55933aa74841b76c8609f163a15e",
            "_dom_classes": [],
            "description": "",
            "_model_name": "HTMLModel",
            "placeholder": "​",
            "_view_module": "@jupyter-widgets/controls",
            "_model_module_version": "1.5.0",
            "value": " 83.3M/83.3M [00:01&lt;00:00, 83.5MB/s]",
            "_view_count": null,
            "_view_module_version": "1.5.0",
            "description_tooltip": null,
            "_model_module": "@jupyter-widgets/controls",
            "layout": "IPY_MODEL_5aff15d80fc1418ea672f4940fe182fb"
          }
        },
        "12ad24c982c143afb83a51c67951a154": {
          "model_module": "@jupyter-widgets/controls",
          "model_name": "ProgressStyleModel",
          "state": {
            "_view_name": "StyleView",
            "_model_name": "ProgressStyleModel",
            "description_width": "initial",
            "_view_module": "@jupyter-widgets/base",
            "_model_module_version": "1.5.0",
            "_view_count": null,
            "_view_module_version": "1.2.0",
            "bar_color": null,
            "_model_module": "@jupyter-widgets/controls"
          }
        },
        "64fdd89a066d4d749ccbf832371f613c": {
          "model_module": "@jupyter-widgets/base",
          "model_name": "LayoutModel",
          "state": {
            "_view_name": "LayoutView",
            "grid_template_rows": null,
            "right": null,
            "justify_content": null,
            "_view_module": "@jupyter-widgets/base",
            "overflow": null,
            "_model_module_version": "1.2.0",
            "_view_count": null,
            "flex_flow": null,
            "width": null,
            "min_width": null,
            "border": null,
            "align_items": null,
            "bottom": null,
            "_model_module": "@jupyter-widgets/base",
            "top": null,
            "grid_column": null,
            "overflow_y": null,
            "overflow_x": null,
            "grid_auto_flow": null,
            "grid_area": null,
            "grid_template_columns": null,
            "flex": null,
            "_model_name": "LayoutModel",
            "justify_items": null,
            "grid_row": null,
            "max_height": null,
            "align_content": null,
            "visibility": null,
            "align_self": null,
            "height": null,
            "min_height": null,
            "padding": null,
            "grid_auto_rows": null,
            "grid_gap": null,
            "max_width": null,
            "order": null,
            "_view_module_version": "1.2.0",
            "grid_template_areas": null,
            "object_position": null,
            "object_fit": null,
            "grid_auto_columns": null,
            "margin": null,
            "display": null,
            "left": null
          }
        },
        "c2ea55933aa74841b76c8609f163a15e": {
          "model_module": "@jupyter-widgets/controls",
          "model_name": "DescriptionStyleModel",
          "state": {
            "_view_name": "StyleView",
            "_model_name": "DescriptionStyleModel",
            "description_width": "",
            "_view_module": "@jupyter-widgets/base",
            "_model_module_version": "1.5.0",
            "_view_count": null,
            "_view_module_version": "1.2.0",
            "_model_module": "@jupyter-widgets/controls"
          }
        },
        "5aff15d80fc1418ea672f4940fe182fb": {
          "model_module": "@jupyter-widgets/base",
          "model_name": "LayoutModel",
          "state": {
            "_view_name": "LayoutView",
            "grid_template_rows": null,
            "right": null,
            "justify_content": null,
            "_view_module": "@jupyter-widgets/base",
            "overflow": null,
            "_model_module_version": "1.2.0",
            "_view_count": null,
            "flex_flow": null,
            "width": null,
            "min_width": null,
            "border": null,
            "align_items": null,
            "bottom": null,
            "_model_module": "@jupyter-widgets/base",
            "top": null,
            "grid_column": null,
            "overflow_y": null,
            "overflow_x": null,
            "grid_auto_flow": null,
            "grid_area": null,
            "grid_template_columns": null,
            "flex": null,
            "_model_name": "LayoutModel",
            "justify_items": null,
            "grid_row": null,
            "max_height": null,
            "align_content": null,
            "visibility": null,
            "align_self": null,
            "height": null,
            "min_height": null,
            "padding": null,
            "grid_auto_rows": null,
            "grid_gap": null,
            "max_width": null,
            "order": null,
            "_view_module_version": "1.2.0",
            "grid_template_areas": null,
            "object_position": null,
            "object_fit": null,
            "grid_auto_columns": null,
            "margin": null,
            "display": null,
            "left": null
          }
        }
      }
    }
  },
  "cells": [
    {
      "cell_type": "markdown",
      "metadata": {
        "id": "view-in-github",
        "colab_type": "text"
      },
      "source": [
        "<a href=\"https://colab.research.google.com/github/JacopoMangiavacchi/FastLabeling/blob/master/pets_cats_dogs_transfer_learning_with_new_head.ipynb\" target=\"_parent\"><img src=\"https://colab.research.google.com/assets/colab-badge.svg\" alt=\"Open In Colab\"/></a>"
      ]
    },
    {
      "cell_type": "markdown",
      "metadata": {
        "id": "BRD3vJhViqiN",
        "colab_type": "text"
      },
      "source": [
        "# Import FastAI and PETS dataset"
      ]
    },
    {
      "cell_type": "code",
      "metadata": {
        "colab_type": "code",
        "id": "sAtalHAL-NnO",
        "colab": {
          "base_uri": "https://localhost:8080/",
          "height": 897
        },
        "outputId": "ed6c4e7c-502d-4e1f-8250-bb9453981e9c"
      },
      "source": [
        "!pip install fastai -U"
      ],
      "execution_count": 1,
      "outputs": [
        {
          "output_type": "stream",
          "text": [
            "Collecting fastai\n",
            "\u001b[?25l  Downloading https://files.pythonhosted.org/packages/0d/01/128c6c295975cf313fe214421602c73806b5ff6f7a050901b9e802c573f2/fastai-2.0.6-py3-none-any.whl (353kB)\n",
            "\r\u001b[K     |█                               | 10kB 24.4MB/s eta 0:00:01\r\u001b[K     |█▉                              | 20kB 31.4MB/s eta 0:00:01\r\u001b[K     |██▉                             | 30kB 37.4MB/s eta 0:00:01\r\u001b[K     |███▊                            | 40kB 18.8MB/s eta 0:00:01\r\u001b[K     |████▋                           | 51kB 13.5MB/s eta 0:00:01\r\u001b[K     |█████▋                          | 61kB 13.9MB/s eta 0:00:01\r\u001b[K     |██████▌                         | 71kB 14.4MB/s eta 0:00:01\r\u001b[K     |███████▍                        | 81kB 14.4MB/s eta 0:00:01\r\u001b[K     |████████▍                       | 92kB 12.3MB/s eta 0:00:01\r\u001b[K     |█████████▎                      | 102kB 12.4MB/s eta 0:00:01\r\u001b[K     |██████████▏                     | 112kB 12.4MB/s eta 0:00:01\r\u001b[K     |███████████▏                    | 122kB 12.4MB/s eta 0:00:01\r\u001b[K     |████████████                    | 133kB 12.4MB/s eta 0:00:01\r\u001b[K     |█████████████                   | 143kB 12.4MB/s eta 0:00:01\r\u001b[K     |██████████████                  | 153kB 12.4MB/s eta 0:00:01\r\u001b[K     |██████████████▉                 | 163kB 12.4MB/s eta 0:00:01\r\u001b[K     |███████████████▊                | 174kB 12.4MB/s eta 0:00:01\r\u001b[K     |████████████████▊               | 184kB 12.4MB/s eta 0:00:01\r\u001b[K     |█████████████████▋              | 194kB 12.4MB/s eta 0:00:01\r\u001b[K     |██████████████████▋             | 204kB 12.4MB/s eta 0:00:01\r\u001b[K     |███████████████████▌            | 215kB 12.4MB/s eta 0:00:01\r\u001b[K     |████████████████████▍           | 225kB 12.4MB/s eta 0:00:01\r\u001b[K     |█████████████████████▍          | 235kB 12.4MB/s eta 0:00:01\r\u001b[K     |██████████████████████▎         | 245kB 12.4MB/s eta 0:00:01\r\u001b[K     |███████████████████████▏        | 256kB 12.4MB/s eta 0:00:01\r\u001b[K     |████████████████████████▏       | 266kB 12.4MB/s eta 0:00:01\r\u001b[K     |█████████████████████████       | 276kB 12.4MB/s eta 0:00:01\r\u001b[K     |██████████████████████████      | 286kB 12.4MB/s eta 0:00:01\r\u001b[K     |███████████████████████████     | 296kB 12.4MB/s eta 0:00:01\r\u001b[K     |███████████████████████████▉    | 307kB 12.4MB/s eta 0:00:01\r\u001b[K     |████████████████████████████▊   | 317kB 12.4MB/s eta 0:00:01\r\u001b[K     |█████████████████████████████▊  | 327kB 12.4MB/s eta 0:00:01\r\u001b[K     |██████████████████████████████▋ | 337kB 12.4MB/s eta 0:00:01\r\u001b[K     |███████████████████████████████▌| 348kB 12.4MB/s eta 0:00:01\r\u001b[K     |████████████████████████████████| 358kB 12.4MB/s \n",
            "\u001b[?25hCollecting fastcore>=1.0.0\n",
            "  Downloading https://files.pythonhosted.org/packages/cc/92/233661d730b5613b4daf473cd28005bf2294fb1a858ce0bac57fbb7fa5ec/fastcore-1.0.0-py3-none-any.whl\n",
            "Requirement already satisfied, skipping upgrade: scikit-learn in /usr/local/lib/python3.6/dist-packages (from fastai) (0.22.2.post1)\n",
            "Requirement already satisfied, skipping upgrade: fastprogress>=0.2.4 in /usr/local/lib/python3.6/dist-packages (from fastai) (1.0.0)\n",
            "Requirement already satisfied, skipping upgrade: scipy in /usr/local/lib/python3.6/dist-packages (from fastai) (1.4.1)\n",
            "Requirement already satisfied, skipping upgrade: torch>=1.6.0 in /usr/local/lib/python3.6/dist-packages (from fastai) (1.6.0+cu101)\n",
            "Requirement already satisfied, skipping upgrade: pip in /usr/local/lib/python3.6/dist-packages (from fastai) (19.3.1)\n",
            "Requirement already satisfied, skipping upgrade: pandas in /usr/local/lib/python3.6/dist-packages (from fastai) (1.0.5)\n",
            "Requirement already satisfied, skipping upgrade: packaging in /usr/local/lib/python3.6/dist-packages (from fastai) (20.4)\n",
            "Requirement already satisfied, skipping upgrade: torchvision>=0.7 in /usr/local/lib/python3.6/dist-packages (from fastai) (0.7.0+cu101)\n",
            "Requirement already satisfied, skipping upgrade: pyyaml in /usr/local/lib/python3.6/dist-packages (from fastai) (3.13)\n",
            "Requirement already satisfied, skipping upgrade: spacy in /usr/local/lib/python3.6/dist-packages (from fastai) (2.2.4)\n",
            "Requirement already satisfied, skipping upgrade: pillow in /usr/local/lib/python3.6/dist-packages (from fastai) (7.0.0)\n",
            "Requirement already satisfied, skipping upgrade: matplotlib in /usr/local/lib/python3.6/dist-packages (from fastai) (3.2.2)\n",
            "Requirement already satisfied, skipping upgrade: requests in /usr/local/lib/python3.6/dist-packages (from fastai) (2.23.0)\n",
            "Requirement already satisfied, skipping upgrade: dataclasses in /usr/local/lib/python3.6/dist-packages (from fastcore>=1.0.0->fastai) (0.7)\n",
            "Requirement already satisfied, skipping upgrade: numpy in /usr/local/lib/python3.6/dist-packages (from fastcore>=1.0.0->fastai) (1.18.5)\n",
            "Requirement already satisfied, skipping upgrade: wheel in /usr/local/lib/python3.6/dist-packages (from fastcore>=1.0.0->fastai) (0.35.1)\n",
            "Requirement already satisfied, skipping upgrade: joblib>=0.11 in /usr/local/lib/python3.6/dist-packages (from scikit-learn->fastai) (0.16.0)\n",
            "Requirement already satisfied, skipping upgrade: future in /usr/local/lib/python3.6/dist-packages (from torch>=1.6.0->fastai) (0.16.0)\n",
            "Requirement already satisfied, skipping upgrade: pytz>=2017.2 in /usr/local/lib/python3.6/dist-packages (from pandas->fastai) (2018.9)\n",
            "Requirement already satisfied, skipping upgrade: python-dateutil>=2.6.1 in /usr/local/lib/python3.6/dist-packages (from pandas->fastai) (2.8.1)\n",
            "Requirement already satisfied, skipping upgrade: pyparsing>=2.0.2 in /usr/local/lib/python3.6/dist-packages (from packaging->fastai) (2.4.7)\n",
            "Requirement already satisfied, skipping upgrade: six in /usr/local/lib/python3.6/dist-packages (from packaging->fastai) (1.15.0)\n",
            "Requirement already satisfied, skipping upgrade: plac<1.2.0,>=0.9.6 in /usr/local/lib/python3.6/dist-packages (from spacy->fastai) (1.1.3)\n",
            "Requirement already satisfied, skipping upgrade: blis<0.5.0,>=0.4.0 in /usr/local/lib/python3.6/dist-packages (from spacy->fastai) (0.4.1)\n",
            "Requirement already satisfied, skipping upgrade: wasabi<1.1.0,>=0.4.0 in /usr/local/lib/python3.6/dist-packages (from spacy->fastai) (0.7.1)\n",
            "Requirement already satisfied, skipping upgrade: srsly<1.1.0,>=1.0.2 in /usr/local/lib/python3.6/dist-packages (from spacy->fastai) (1.0.2)\n",
            "Requirement already satisfied, skipping upgrade: setuptools in /usr/local/lib/python3.6/dist-packages (from spacy->fastai) (49.6.0)\n",
            "Requirement already satisfied, skipping upgrade: cymem<2.1.0,>=2.0.2 in /usr/local/lib/python3.6/dist-packages (from spacy->fastai) (2.0.3)\n",
            "Requirement already satisfied, skipping upgrade: tqdm<5.0.0,>=4.38.0 in /usr/local/lib/python3.6/dist-packages (from spacy->fastai) (4.41.1)\n",
            "Requirement already satisfied, skipping upgrade: murmurhash<1.1.0,>=0.28.0 in /usr/local/lib/python3.6/dist-packages (from spacy->fastai) (1.0.2)\n",
            "Requirement already satisfied, skipping upgrade: thinc==7.4.0 in /usr/local/lib/python3.6/dist-packages (from spacy->fastai) (7.4.0)\n",
            "Requirement already satisfied, skipping upgrade: catalogue<1.1.0,>=0.0.7 in /usr/local/lib/python3.6/dist-packages (from spacy->fastai) (1.0.0)\n",
            "Requirement already satisfied, skipping upgrade: preshed<3.1.0,>=3.0.2 in /usr/local/lib/python3.6/dist-packages (from spacy->fastai) (3.0.2)\n",
            "Requirement already satisfied, skipping upgrade: kiwisolver>=1.0.1 in /usr/local/lib/python3.6/dist-packages (from matplotlib->fastai) (1.2.0)\n",
            "Requirement already satisfied, skipping upgrade: cycler>=0.10 in /usr/local/lib/python3.6/dist-packages (from matplotlib->fastai) (0.10.0)\n",
            "Requirement already satisfied, skipping upgrade: certifi>=2017.4.17 in /usr/local/lib/python3.6/dist-packages (from requests->fastai) (2020.6.20)\n",
            "Requirement already satisfied, skipping upgrade: idna<3,>=2.5 in /usr/local/lib/python3.6/dist-packages (from requests->fastai) (2.10)\n",
            "Requirement already satisfied, skipping upgrade: chardet<4,>=3.0.2 in /usr/local/lib/python3.6/dist-packages (from requests->fastai) (3.0.4)\n",
            "Requirement already satisfied, skipping upgrade: urllib3!=1.25.0,!=1.25.1,<1.26,>=1.21.1 in /usr/local/lib/python3.6/dist-packages (from requests->fastai) (1.24.3)\n",
            "Requirement already satisfied, skipping upgrade: importlib-metadata>=0.20; python_version < \"3.8\" in /usr/local/lib/python3.6/dist-packages (from catalogue<1.1.0,>=0.0.7->spacy->fastai) (1.7.0)\n",
            "Requirement already satisfied, skipping upgrade: zipp>=0.5 in /usr/local/lib/python3.6/dist-packages (from importlib-metadata>=0.20; python_version < \"3.8\"->catalogue<1.1.0,>=0.0.7->spacy->fastai) (3.1.0)\n",
            "\u001b[31mERROR: fastai 2.0.6 has requirement pandas>=1.1.0, but you'll have pandas 1.0.5 which is incompatible.\u001b[0m\n",
            "Installing collected packages: fastcore, fastai\n",
            "  Found existing installation: fastai 1.0.61\n",
            "    Uninstalling fastai-1.0.61:\n",
            "      Successfully uninstalled fastai-1.0.61\n",
            "Successfully installed fastai-2.0.6 fastcore-1.0.0\n"
          ],
          "name": "stdout"
        }
      ]
    },
    {
      "cell_type": "code",
      "metadata": {
        "colab_type": "code",
        "id": "JlRcnsN--NnV",
        "colab": {
          "base_uri": "https://localhost:8080/",
          "height": 54
        },
        "outputId": "43ea6db4-e712-4bc5-a2c3-611cfef79d6c"
      },
      "source": [
        "from fastai.vision.all import *\n",
        "path = untar_data(URLs.PETS)/'images'\n",
        "Path.BASE_PATH = path\n",
        "path.ls()"
      ],
      "execution_count": 2,
      "outputs": [
        {
          "output_type": "display_data",
          "data": {
            "text/html": [
              ""
            ],
            "text/plain": [
              "<IPython.core.display.HTML object>"
            ]
          },
          "metadata": {
            "tags": []
          }
        },
        {
          "output_type": "execute_result",
          "data": {
            "text/plain": [
              "(#7393) [Path('Bengal_151.jpg'),Path('saint_bernard_171.jpg'),Path('yorkshire_terrier_125.jpg'),Path('Birman_111.jpg'),Path('leonberger_45.jpg'),Path('Sphynx_185.jpg'),Path('Ragdoll_159.jpg'),Path('wheaten_terrier_26.jpg'),Path('Bombay_14.jpg'),Path('Abyssinian_137.jpg')...]"
            ]
          },
          "metadata": {
            "tags": []
          },
          "execution_count": 2
        }
      ]
    },
    {
      "cell_type": "code",
      "metadata": {
        "id": "_hX28Ul-mvUI",
        "colab_type": "code",
        "colab": {
          "base_uri": "https://localhost:8080/",
          "height": 166
        },
        "outputId": "e9f0c5d1-b97f-4f69-b36a-d9b94a1f04d0"
      },
      "source": [
        "img = PILImage.create(path/'Bengal_12.jpg')\n",
        "img.to_thumb(192)"
      ],
      "execution_count": 3,
      "outputs": [
        {
          "output_type": "execute_result",
          "data": {
            "image/png": "[encoded data removed]",
            "text/plain": [
              "<PIL.Image.Image image mode=RGB size=192x129 at 0x7FD8882E6EF0>"
            ]
          },
          "metadata": {
            "tags": []
          },
          "execution_count": 3
        }
      ]
    },
    {
      "cell_type": "code",
      "metadata": {
        "id": "niU6pq671Dr3",
        "colab_type": "code",
        "colab": {
          "base_uri": "https://localhost:8080/",
          "height": 173
        },
        "outputId": "91e23f51-4a4e-4722-ef6e-8597e21110c4"
      },
      "source": [
        "img = PILImage.create(path/'staffordshire_bull_terrier_13.jpg')\n",
        "img.to_thumb(192)"
      ],
      "execution_count": 4,
      "outputs": [
        {
          "output_type": "execute_result",
          "data": {
            "image/png": "[encoded data removed]",
            "text/plain": [
              "<PIL.Image.Image image mode=RGB size=192x135 at 0x7FD815F72A58>"
            ]
          },
          "metadata": {
            "tags": []
          },
          "execution_count": 4
        }
      ]
    },
    {
      "cell_type": "markdown",
      "metadata": {
        "id": "XLHh9tM3ihAV",
        "colab_type": "text"
      },
      "source": [
        "# Prepare DataLoaders for PETS dataset with simply Cats and Dogs labels"
      ]
    },
    {
      "cell_type": "code",
      "metadata": {
        "colab_type": "code",
        "id": "FocObiS7-Nnp",
        "colab": {
          "base_uri": "https://localhost:8080/",
          "height": 71
        },
        "outputId": "2e7a39af-ab4f-4ac0-f6f5-e1b908a24f85"
      },
      "source": [
        "def is_cat(x): return x[0].isupper()\n",
        "\n",
        "cats_dogs_dls = ImageDataLoaders.from_name_func(\n",
        "    path, get_image_files(path), valid_pct=0.2, seed=42,\n",
        "    label_func=is_cat, item_tfms=Resize(224))\n",
        "\n",
        "cats_dogs_dls.train_ds, cats_dogs_dls.valid_ds"
      ],
      "execution_count": 5,
      "outputs": [
        {
          "output_type": "execute_result",
          "data": {
            "text/plain": [
              "((#5912) [(PILImage mode=RGB size=500x290, TensorCategory(1)),(PILImage mode=RGB size=300x298, TensorCategory(0)),(PILImage mode=RGB size=500x375, TensorCategory(0)),(PILImage mode=RGB size=422x500, TensorCategory(1)),(PILImage mode=RGB size=380x500, TensorCategory(1)),(PILImage mode=RGB size=333x500, TensorCategory(1)),(PILImage mode=RGB size=500x333, TensorCategory(0)),(PILImage mode=RGB size=353x500, TensorCategory(0)),(PILImage mode=RGB size=335x500, TensorCategory(1)),(PILImage mode=RGB size=500x375, TensorCategory(1))...],\n",
              " (#1478) [(PILImage mode=RGB size=353x500, TensorCategory(0)),(PILImage mode=RGB size=500x333, TensorCategory(1)),(PILImage mode=RGB size=333x500, TensorCategory(1)),(PILImage mode=RGB size=399x313, TensorCategory(1)),(PILImage mode=RGB size=400x500, TensorCategory(0)),(PILImage mode=RGB size=500x333, TensorCategory(0)),(PILImage mode=RGB size=205x320, TensorCategory(1)),(PILImage mode=RGB size=432x500, TensorCategory(0)),(PILImage mode=RGB size=500x375, TensorCategory(0)),(PILImage mode=RGB size=500x351, TensorCategory(0))...])"
            ]
          },
          "metadata": {
            "tags": []
          },
          "execution_count": 5
        }
      ]
    },
    {
      "cell_type": "code",
      "metadata": {
        "id": "Ny9QyzSnnJJv",
        "colab_type": "code",
        "colab": {
          "base_uri": "https://localhost:8080/",
          "height": 54
        },
        "outputId": "d6394c05-8c3c-4981-d9b1-3470027805e4"
      },
      "source": [
        "cats_dogs_dls.vocab"
      ],
      "execution_count": 6,
      "outputs": [
        {
          "output_type": "execute_result",
          "data": {
            "text/plain": [
              "(#2) [False,True]"
            ]
          },
          "metadata": {
            "tags": []
          },
          "execution_count": 6
        }
      ]
    },
    {
      "cell_type": "markdown",
      "metadata": {
        "id": "SGcmjdyLidOD",
        "colab_type": "text"
      },
      "source": [
        "# Train Full PETS Dataset on ResNet architecture with Cats and Dogs labels"
      ]
    },
    {
      "cell_type": "code",
      "metadata": {
        "colab_type": "code",
        "id": "j4MFv4TJ-Nnt",
        "colab": {
          "base_uri": "https://localhost:8080/",
          "height": 287,
          "referenced_widgets": [
            "3b9a55955fe4468e89f9266835d25aa7",
            "4745fbd0eeec458ab8610eeb5faa77df",
            "45105af78549497c966977933f6f033f",
            "319cf54db369443ab8e049d84f5b7045",
            "12ad24c982c143afb83a51c67951a154",
            "64fdd89a066d4d749ccbf832371f613c",
            "c2ea55933aa74841b76c8609f163a15e",
            "5aff15d80fc1418ea672f4940fe182fb"
          ]
        },
        "outputId": "0db6bb3d-a385-4bdb-d806-08b9dc660150"
      },
      "source": [
        "learn = cnn_learner(cats_dogs_dls, resnet34, metrics=accuracy)\n",
        "learn.fine_tune(3)\n"
      ],
      "execution_count": 7,
      "outputs": [
        {
          "output_type": "stream",
          "text": [
            "Downloading: \"https://download.pytorch.org/models/resnet34-333f7ec4.pth\" to /root/.cache/torch/hub/checkpoints/resnet34-333f7ec4.pth\n"
          ],
          "name": "stderr"
        },
        {
          "output_type": "display_data",
          "data": {
            "application/vnd.jupyter.widget-view+json": {
              "model_id": "3b9a55955fe4468e89f9266835d25aa7",
              "version_minor": 0,
              "version_major": 2
            },
            "text/plain": [
              "HBox(children=(FloatProgress(value=0.0, max=87306240.0), HTML(value='')))"
            ]
          },
          "metadata": {
            "tags": []
          }
        },
        {
          "output_type": "stream",
          "text": [
            "\n"
          ],
          "name": "stdout"
        },
        {
          "output_type": "display_data",
          "data": {
            "text/html": [
              "<table border=\"1\" class=\"dataframe\">\n",
              "  <thead>\n",
              "    <tr style=\"text-align: left;\">\n",
              "      <th>epoch</th>\n",
              "      <th>train_loss</th>\n",
              "      <th>valid_loss</th>\n",
              "      <th>accuracy</th>\n",
              "      <th>time</th>\n",
              "    </tr>\n",
              "  </thead>\n",
              "  <tbody>\n",
              "    <tr>\n",
              "      <td>0</td>\n",
              "      <td>0.180800</td>\n",
              "      <td>0.025750</td>\n",
              "      <td>0.991204</td>\n",
              "      <td>00:45</td>\n",
              "    </tr>\n",
              "  </tbody>\n",
              "</table>"
            ],
            "text/plain": [
              "<IPython.core.display.HTML object>"
            ]
          },
          "metadata": {
            "tags": []
          }
        },
        {
          "output_type": "display_data",
          "data": {
            "text/html": [
              "<table border=\"1\" class=\"dataframe\">\n",
              "  <thead>\n",
              "    <tr style=\"text-align: left;\">\n",
              "      <th>epoch</th>\n",
              "      <th>train_loss</th>\n",
              "      <th>valid_loss</th>\n",
              "      <th>accuracy</th>\n",
              "      <th>time</th>\n",
              "    </tr>\n",
              "  </thead>\n",
              "  <tbody>\n",
              "    <tr>\n",
              "      <td>0</td>\n",
              "      <td>0.060349</td>\n",
              "      <td>0.033691</td>\n",
              "      <td>0.989175</td>\n",
              "      <td>00:48</td>\n",
              "    </tr>\n",
              "    <tr>\n",
              "      <td>1</td>\n",
              "      <td>0.038273</td>\n",
              "      <td>0.015631</td>\n",
              "      <td>0.996617</td>\n",
              "      <td>00:48</td>\n",
              "    </tr>\n",
              "    <tr>\n",
              "      <td>2</td>\n",
              "      <td>0.021013</td>\n",
              "      <td>0.010353</td>\n",
              "      <td>0.995940</td>\n",
              "      <td>00:48</td>\n",
              "    </tr>\n",
              "  </tbody>\n",
              "</table>"
            ],
            "text/plain": [
              "<IPython.core.display.HTML object>"
            ]
          },
          "metadata": {
            "tags": []
          }
        }
      ]
    },
    {
      "cell_type": "markdown",
      "metadata": {
        "id": "mVXQwYGNibJn",
        "colab_type": "text"
      },
      "source": [
        "# Prepare DataLoaders for a small subset of the PETS Dataset with real breed labels for only xx samples per class (xx order of magnitute smaller)"
      ]
    },
    {
      "cell_type": "code",
      "metadata": {
        "colab_type": "code",
        "id": "jQNHvlCILj2B",
        "colab": {
          "base_uri": "https://localhost:8080/",
          "height": 87
        },
        "outputId": "140d944c-7f90-4ca6-cd56-97bca3f00dfb"
      },
      "source": [
        "all_pets = DataBlock(blocks = (ImageBlock, CategoryBlock),\n",
        "                     get_items=get_image_files, \n",
        "                     splitter=RandomSplitter(0.2, seed=42),\n",
        "                     get_y=using_attr(RegexLabeller(r'(.+)_\\d+.jpg$'), 'name'),\n",
        "                     item_tfms=Resize(460),\n",
        "                     batch_tfms=aug_transforms(size=224, min_scale=0.75))\n",
        "\n",
        "all_pets_dls = all_pets.dataloaders(path)\n",
        "\n",
        "all_pets_dls.train_ds, all_pets_dls.valid_ds, all_pets_dls.vocab"
      ],
      "execution_count": 8,
      "outputs": [
        {
          "output_type": "execute_result",
          "data": {
            "text/plain": [
              "((#5912) [(PILImage mode=RGB size=500x290, TensorCategory(1)),(PILImage mode=RGB size=300x298, TensorCategory(17)),(PILImage mode=RGB size=500x375, TensorCategory(14)),(PILImage mode=RGB size=422x500, TensorCategory(9)),(PILImage mode=RGB size=380x500, TensorCategory(6)),(PILImage mode=RGB size=333x500, TensorCategory(6)),(PILImage mode=RGB size=500x333, TensorCategory(12)),(PILImage mode=RGB size=353x500, TensorCategory(19)),(PILImage mode=RGB size=335x500, TensorCategory(9)),(PILImage mode=RGB size=500x375, TensorCategory(7))...],\n",
              " (#1478) [(PILImage mode=RGB size=353x500, TensorCategory(18)),(PILImage mode=RGB size=500x333, TensorCategory(2)),(PILImage mode=RGB size=333x500, TensorCategory(4)),(PILImage mode=RGB size=399x313, TensorCategory(1)),(PILImage mode=RGB size=400x500, TensorCategory(20)),(PILImage mode=RGB size=500x333, TensorCategory(15)),(PILImage mode=RGB size=205x320, TensorCategory(3)),(PILImage mode=RGB size=432x500, TensorCategory(22)),(PILImage mode=RGB size=500x375, TensorCategory(27)),(PILImage mode=RGB size=500x351, TensorCategory(31))...],\n",
              " (#37) ['Abyssinian','Bengal','Birman','Bombay','British_Shorthair','Egyptian_Mau','Maine_Coon','Persian','Ragdoll','Russian_Blue'...])"
            ]
          },
          "metadata": {
            "tags": []
          },
          "execution_count": 8
        }
      ]
    },
    {
      "cell_type": "code",
      "metadata": {
        "id": "hFnE6VhnmH5W",
        "colab_type": "code",
        "colab": {
          "base_uri": "https://localhost:8080/",
          "height": 649
        },
        "outputId": "ef537939-5780-4ae3-a55d-adb8916cfd05"
      },
      "source": [
        "from shutil import copy2, rmtree\n",
        "from glob import glob\n",
        "\n",
        "subset_path = Path('./subset_pet')\n",
        "rmtree(subset_path, ignore_errors=true)\n",
        "subset_path.mkdir(exist_ok=True)\n",
        "\n",
        "breed_dict = { breed : glob(str(path) + '/' + breed + '*')  for breed in all_pets_dls.vocab }\n",
        "\n",
        "for breed in breed_dict:\n",
        "  print(breed, len(breed_dict[breed]))"
      ],
      "execution_count": 9,
      "outputs": [
        {
          "output_type": "stream",
          "text": [
            "Abyssinian 203\n",
            "Bengal 200\n",
            "Birman 200\n",
            "Bombay 200\n",
            "British_Shorthair 200\n",
            "Egyptian_Mau 200\n",
            "Maine_Coon 200\n",
            "Persian 200\n",
            "Ragdoll 200\n",
            "Russian_Blue 200\n",
            "Siamese 200\n",
            "Sphynx 200\n",
            "american_bulldog 200\n",
            "american_pit_bull_terrier 200\n",
            "basset_hound 200\n",
            "beagle 200\n",
            "boxer 200\n",
            "chihuahua 200\n",
            "english_cocker_spaniel 200\n",
            "english_setter 200\n",
            "german_shorthaired 200\n",
            "great_pyrenees 200\n",
            "havanese 200\n",
            "japanese_chin 200\n",
            "keeshond 200\n",
            "leonberger 200\n",
            "miniature_pinscher 200\n",
            "newfoundland 200\n",
            "pomeranian 200\n",
            "pug 200\n",
            "saint_bernard 200\n",
            "samoyed 200\n",
            "scottish_terrier 199\n",
            "shiba_inu 200\n",
            "staffordshire_bull_terrier 191\n",
            "wheaten_terrier 200\n",
            "yorkshire_terrier 200\n"
          ],
          "name": "stdout"
        }
      ]
    },
    {
      "cell_type": "code",
      "metadata": {
        "id": "N7QX-5V0qGl7",
        "colab_type": "code",
        "colab": {}
      },
      "source": [
        "num_files_to_copy = 50\n",
        "\n",
        "for breed in breed_dict:\n",
        "  list_files = list(range(len(breed_dict[breed])))\n",
        "  random.shuffle(list_files)\n",
        "  for i in range(num_files_to_copy):\n",
        "    copy2(breed_dict[breed][list_files[i]], subset_path)"
      ],
      "execution_count": 10,
      "outputs": []
    },
    {
      "cell_type": "code",
      "metadata": {
        "id": "j0jKY2d7rSIZ",
        "colab_type": "code",
        "colab": {
          "base_uri": "https://localhost:8080/",
          "height": 54
        },
        "outputId": "59ac3e54-655c-4959-baff-41c62c750ce7"
      },
      "source": [
        "subset_path.ls()"
      ],
      "execution_count": 11,
      "outputs": [
        {
          "output_type": "execute_result",
          "data": {
            "text/plain": [
              "(#1850) [Path('subset_pet/saint_bernard_171.jpg'),Path('subset_pet/Sphynx_185.jpg'),Path('subset_pet/Abyssinian_137.jpg'),Path('subset_pet/Siamese_110.jpg'),Path('subset_pet/english_setter_17.jpg'),Path('subset_pet/pomeranian_44.jpg'),Path('subset_pet/scottish_terrier_13.jpg'),Path('subset_pet/pomeranian_181.jpg'),Path('subset_pet/samoyed_55.jpg'),Path('subset_pet/beagle_91.jpg')...]"
            ]
          },
          "metadata": {
            "tags": []
          },
          "execution_count": 11
        }
      ]
    },
    {
      "cell_type": "code",
      "metadata": {
        "id": "ksn8GAjrntFO",
        "colab_type": "code",
        "colab": {
          "base_uri": "https://localhost:8080/",
          "height": 87
        },
        "outputId": "35a9839a-428e-4622-8a33-9328b7cd8c2c"
      },
      "source": [
        "subset_pets_dls = all_pets.dataloaders(subset_path)\n",
        "\n",
        "subset_pets_dls.train_ds, subset_pets_dls.valid_ds, subset_pets_dls.vocab"
      ],
      "execution_count": 12,
      "outputs": [
        {
          "output_type": "execute_result",
          "data": {
            "text/plain": [
              "((#1480) [(PILImage mode=RGB size=500x336, TensorCategory(16)),(PILImage mode=RGB size=189x300, TensorCategory(28)),(PILImage mode=RGB size=500x500, TensorCategory(18)),(PILImage mode=RGB size=500x489, TensorCategory(21)),(PILImage mode=RGB size=375x500, TensorCategory(14)),(PILImage mode=RGB size=225x300, TensorCategory(28)),(PILImage mode=RGB size=500x378, TensorCategory(27)),(PILImage mode=RGB size=275x275, TensorCategory(0)),(PILImage mode=RGB size=500x333, TensorCategory(35)),(PILImage mode=RGB size=500x333, TensorCategory(34))...],\n",
              " (#370) [(PILImage mode=RGB size=500x332, TensorCategory(33)),(PILImage mode=RGB size=375x500, TensorCategory(24)),(PILImage mode=RGB size=500x331, TensorCategory(16)),(PILImage mode=RGB size=500x375, TensorCategory(21)),(PILImage mode=RGB size=248x300, TensorCategory(29)),(PILImage mode=RGB size=300x225, TensorCategory(28)),(PILImage mode=RGB size=273x300, TensorCategory(17)),(PILImage mode=RGB size=200x182, TensorCategory(17)),(PILImage mode=RGB size=375x500, TensorCategory(32)),(PILImage mode=RGB size=334x500, TensorCategory(17))...],\n",
              " (#37) ['Abyssinian','Bengal','Birman','Bombay','British_Shorthair','Egyptian_Mau','Maine_Coon','Persian','Ragdoll','Russian_Blue'...])"
            ]
          },
          "metadata": {
            "tags": []
          },
          "execution_count": 12
        }
      ]
    },
    {
      "cell_type": "markdown",
      "metadata": {
        "id": "YDw-4QMhiZHO",
        "colab_type": "text"
      },
      "source": [
        "# Transfer Learning reusing the ResNet model previosly trained on Cats / Dogs labels and change last Linear learner to fine-tune on the xx digit labels and train on the new small subset dataset"
      ]
    },
    {
      "cell_type": "code",
      "metadata": {
        "colab_type": "code",
        "id": "NsIgVY4nBh_Q",
        "colab": {
          "base_uri": "https://localhost:8080/",
          "height": 269
        },
        "outputId": "c8ed3427-e509-499d-ee02-21ae005dc188"
      },
      "source": [
        "learn.model[1]"
      ],
      "execution_count": 18,
      "outputs": [
        {
          "output_type": "execute_result",
          "data": {
            "text/plain": [
              "Sequential(\n",
              "  (0): AdaptiveConcatPool2d(\n",
              "    (ap): AdaptiveAvgPool2d(output_size=1)\n",
              "    (mp): AdaptiveMaxPool2d(output_size=1)\n",
              "  )\n",
              "  (1): Flatten(full=False)\n",
              "  (2): BatchNorm1d(1024, eps=1e-05, momentum=0.1, affine=True, track_running_stats=True)\n",
              "  (3): Dropout(p=0.25, inplace=False)\n",
              "  (4): Linear(in_features=1024, out_features=512, bias=False)\n",
              "  (5): ReLU(inplace=True)\n",
              "  (6): BatchNorm1d(512, eps=1e-05, momentum=0.1, affine=True, track_running_stats=True)\n",
              "  (7): Dropout(p=0.5, inplace=False)\n",
              "  (8): Linear(in_features=512, out_features=37, bias=False)\n",
              ")"
            ]
          },
          "metadata": {
            "tags": []
          },
          "execution_count": 18
        }
      ]
    },
    {
      "cell_type": "code",
      "metadata": {
        "colab_type": "code",
        "id": "S0x5JL2YBg3g",
        "colab": {}
      },
      "source": [
        "learn.model[1] = create_head(1024, len(subset_pets_dls.vocab))"
      ],
      "execution_count": 19,
      "outputs": []
    },
    {
      "cell_type": "code",
      "metadata": {
        "id": "nt69s1UqI-ZG",
        "colab_type": "code",
        "colab": {
          "base_uri": "https://localhost:8080/",
          "height": 269
        },
        "outputId": "c816bd50-32fb-456e-83d6-3c3efadbd6bc"
      },
      "source": [
        "learn.model[1]"
      ],
      "execution_count": 20,
      "outputs": [
        {
          "output_type": "execute_result",
          "data": {
            "text/plain": [
              "Sequential(\n",
              "  (0): AdaptiveConcatPool2d(\n",
              "    (ap): AdaptiveAvgPool2d(output_size=1)\n",
              "    (mp): AdaptiveMaxPool2d(output_size=1)\n",
              "  )\n",
              "  (1): Flatten(full=False)\n",
              "  (2): BatchNorm1d(1024, eps=1e-05, momentum=0.1, affine=True, track_running_stats=True)\n",
              "  (3): Dropout(p=0.25, inplace=False)\n",
              "  (4): Linear(in_features=1024, out_features=512, bias=False)\n",
              "  (5): ReLU(inplace=True)\n",
              "  (6): BatchNorm1d(512, eps=1e-05, momentum=0.1, affine=True, track_running_stats=True)\n",
              "  (7): Dropout(p=0.5, inplace=False)\n",
              "  (8): Linear(in_features=512, out_features=37, bias=False)\n",
              ")"
            ]
          },
          "metadata": {
            "tags": []
          },
          "execution_count": 20
        }
      ]
    },
    {
      "cell_type": "code",
      "metadata": {
        "colab_type": "code",
        "id": "0vy9B5Sq6N7B",
        "colab": {
          "base_uri": "https://localhost:8080/",
          "height": 741
        },
        "outputId": "cd171d96-9ef1-4c64-8b8a-2cb876655939"
      },
      "source": [
        "learn2 = Learner(subset_pets_dls, learn.model, metrics=accuracy)\n",
        "learn2.fine_tune(20)\n"
      ],
      "execution_count": 21,
      "outputs": [
        {
          "output_type": "display_data",
          "data": {
            "text/html": [
              "<table border=\"1\" class=\"dataframe\">\n",
              "  <thead>\n",
              "    <tr style=\"text-align: left;\">\n",
              "      <th>epoch</th>\n",
              "      <th>train_loss</th>\n",
              "      <th>valid_loss</th>\n",
              "      <th>accuracy</th>\n",
              "      <th>time</th>\n",
              "    </tr>\n",
              "  </thead>\n",
              "  <tbody>\n",
              "    <tr>\n",
              "      <td>0</td>\n",
              "      <td>2.257910</td>\n",
              "      <td>9.131533</td>\n",
              "      <td>0.086486</td>\n",
              "      <td>00:17</td>\n",
              "    </tr>\n",
              "  </tbody>\n",
              "</table>"
            ],
            "text/plain": [
              "<IPython.core.display.HTML object>"
            ]
          },
          "metadata": {
            "tags": []
          }
        },
        {
          "output_type": "display_data",
          "data": {
            "text/html": [
              "<table border=\"1\" class=\"dataframe\">\n",
              "  <thead>\n",
              "    <tr style=\"text-align: left;\">\n",
              "      <th>epoch</th>\n",
              "      <th>train_loss</th>\n",
              "      <th>valid_loss</th>\n",
              "      <th>accuracy</th>\n",
              "      <th>time</th>\n",
              "    </tr>\n",
              "  </thead>\n",
              "  <tbody>\n",
              "    <tr>\n",
              "      <td>0</td>\n",
              "      <td>1.022075</td>\n",
              "      <td>0.805249</td>\n",
              "      <td>0.754054</td>\n",
              "      <td>00:17</td>\n",
              "    </tr>\n",
              "    <tr>\n",
              "      <td>1</td>\n",
              "      <td>0.728663</td>\n",
              "      <td>0.829562</td>\n",
              "      <td>0.748649</td>\n",
              "      <td>00:17</td>\n",
              "    </tr>\n",
              "    <tr>\n",
              "      <td>2</td>\n",
              "      <td>0.588492</td>\n",
              "      <td>0.993478</td>\n",
              "      <td>0.700000</td>\n",
              "      <td>00:17</td>\n",
              "    </tr>\n",
              "    <tr>\n",
              "      <td>3</td>\n",
              "      <td>0.592032</td>\n",
              "      <td>2.638741</td>\n",
              "      <td>0.394595</td>\n",
              "      <td>00:17</td>\n",
              "    </tr>\n",
              "    <tr>\n",
              "      <td>4</td>\n",
              "      <td>0.710826</td>\n",
              "      <td>2.453174</td>\n",
              "      <td>0.429730</td>\n",
              "      <td>00:17</td>\n",
              "    </tr>\n",
              "    <tr>\n",
              "      <td>5</td>\n",
              "      <td>0.800289</td>\n",
              "      <td>2.329558</td>\n",
              "      <td>0.427027</td>\n",
              "      <td>00:17</td>\n",
              "    </tr>\n",
              "    <tr>\n",
              "      <td>6</td>\n",
              "      <td>0.824315</td>\n",
              "      <td>2.128325</td>\n",
              "      <td>0.443243</td>\n",
              "      <td>00:17</td>\n",
              "    </tr>\n",
              "    <tr>\n",
              "      <td>7</td>\n",
              "      <td>0.731169</td>\n",
              "      <td>1.315926</td>\n",
              "      <td>0.637838</td>\n",
              "      <td>00:17</td>\n",
              "    </tr>\n",
              "    <tr>\n",
              "      <td>8</td>\n",
              "      <td>0.637180</td>\n",
              "      <td>1.868378</td>\n",
              "      <td>0.508108</td>\n",
              "      <td>00:17</td>\n",
              "    </tr>\n",
              "    <tr>\n",
              "      <td>9</td>\n",
              "      <td>0.569775</td>\n",
              "      <td>1.727133</td>\n",
              "      <td>0.527027</td>\n",
              "      <td>00:17</td>\n",
              "    </tr>\n",
              "    <tr>\n",
              "      <td>10</td>\n",
              "      <td>0.483047</td>\n",
              "      <td>0.981685</td>\n",
              "      <td>0.697297</td>\n",
              "      <td>00:17</td>\n",
              "    </tr>\n",
              "    <tr>\n",
              "      <td>11</td>\n",
              "      <td>0.385236</td>\n",
              "      <td>1.020435</td>\n",
              "      <td>0.740541</td>\n",
              "      <td>00:17</td>\n",
              "    </tr>\n",
              "    <tr>\n",
              "      <td>12</td>\n",
              "      <td>0.299126</td>\n",
              "      <td>0.809275</td>\n",
              "      <td>0.748649</td>\n",
              "      <td>00:17</td>\n",
              "    </tr>\n",
              "    <tr>\n",
              "      <td>13</td>\n",
              "      <td>0.231317</td>\n",
              "      <td>0.571846</td>\n",
              "      <td>0.818919</td>\n",
              "      <td>00:17</td>\n",
              "    </tr>\n",
              "    <tr>\n",
              "      <td>14</td>\n",
              "      <td>0.179461</td>\n",
              "      <td>0.613791</td>\n",
              "      <td>0.821622</td>\n",
              "      <td>00:17</td>\n",
              "    </tr>\n",
              "    <tr>\n",
              "      <td>15</td>\n",
              "      <td>0.133255</td>\n",
              "      <td>0.592805</td>\n",
              "      <td>0.808108</td>\n",
              "      <td>00:17</td>\n",
              "    </tr>\n",
              "    <tr>\n",
              "      <td>16</td>\n",
              "      <td>0.099462</td>\n",
              "      <td>0.525745</td>\n",
              "      <td>0.832432</td>\n",
              "      <td>00:17</td>\n",
              "    </tr>\n",
              "    <tr>\n",
              "      <td>17</td>\n",
              "      <td>0.074713</td>\n",
              "      <td>0.509353</td>\n",
              "      <td>0.821622</td>\n",
              "      <td>00:17</td>\n",
              "    </tr>\n",
              "    <tr>\n",
              "      <td>18</td>\n",
              "      <td>0.059356</td>\n",
              "      <td>0.514388</td>\n",
              "      <td>0.827027</td>\n",
              "      <td>00:17</td>\n",
              "    </tr>\n",
              "    <tr>\n",
              "      <td>19</td>\n",
              "      <td>0.048356</td>\n",
              "      <td>0.512980</td>\n",
              "      <td>0.827027</td>\n",
              "      <td>00:17</td>\n",
              "    </tr>\n",
              "  </tbody>\n",
              "</table>"
            ],
            "text/plain": [
              "<IPython.core.display.HTML object>"
            ]
          },
          "metadata": {
            "tags": []
          }
        }
      ]
    },
    {
      "cell_type": "markdown",
      "metadata": {
        "id": "a0U7sPcwiQwb",
        "colab_type": "text"
      },
      "source": [
        "# Classic Transfer Learning training from original ResNet on the new small subset dataset"
      ]
    },
    {
      "cell_type": "code",
      "metadata": {
        "colab_type": "code",
        "id": "a6N8UKDI0hFA",
        "colab": {
          "base_uri": "https://localhost:8080/",
          "height": 741
        },
        "outputId": "047987b7-d64a-4fc5-d1f0-11acb30f0876"
      },
      "source": [
        "learn3 = cnn_learner(subset_pets_dls, resnet34, metrics=accuracy)\n",
        "learn3.fine_tune(20)"
      ],
      "execution_count": 22,
      "outputs": [
        {
          "output_type": "display_data",
          "data": {
            "text/html": [
              "<table border=\"1\" class=\"dataframe\">\n",
              "  <thead>\n",
              "    <tr style=\"text-align: left;\">\n",
              "      <th>epoch</th>\n",
              "      <th>train_loss</th>\n",
              "      <th>valid_loss</th>\n",
              "      <th>accuracy</th>\n",
              "      <th>time</th>\n",
              "    </tr>\n",
              "  </thead>\n",
              "  <tbody>\n",
              "    <tr>\n",
              "      <td>0</td>\n",
              "      <td>3.476072</td>\n",
              "      <td>0.690289</td>\n",
              "      <td>0.783784</td>\n",
              "      <td>00:16</td>\n",
              "    </tr>\n",
              "  </tbody>\n",
              "</table>"
            ],
            "text/plain": [
              "<IPython.core.display.HTML object>"
            ]
          },
          "metadata": {
            "tags": []
          }
        },
        {
          "output_type": "display_data",
          "data": {
            "text/html": [
              "<table border=\"1\" class=\"dataframe\">\n",
              "  <thead>\n",
              "    <tr style=\"text-align: left;\">\n",
              "      <th>epoch</th>\n",
              "      <th>train_loss</th>\n",
              "      <th>valid_loss</th>\n",
              "      <th>accuracy</th>\n",
              "      <th>time</th>\n",
              "    </tr>\n",
              "  </thead>\n",
              "  <tbody>\n",
              "    <tr>\n",
              "      <td>0</td>\n",
              "      <td>0.987381</td>\n",
              "      <td>0.477662</td>\n",
              "      <td>0.856757</td>\n",
              "      <td>00:17</td>\n",
              "    </tr>\n",
              "    <tr>\n",
              "      <td>1</td>\n",
              "      <td>0.802133</td>\n",
              "      <td>0.383165</td>\n",
              "      <td>0.870270</td>\n",
              "      <td>00:17</td>\n",
              "    </tr>\n",
              "    <tr>\n",
              "      <td>2</td>\n",
              "      <td>0.618630</td>\n",
              "      <td>0.300453</td>\n",
              "      <td>0.886486</td>\n",
              "      <td>00:17</td>\n",
              "    </tr>\n",
              "    <tr>\n",
              "      <td>3</td>\n",
              "      <td>0.480773</td>\n",
              "      <td>0.306400</td>\n",
              "      <td>0.902703</td>\n",
              "      <td>00:17</td>\n",
              "    </tr>\n",
              "    <tr>\n",
              "      <td>4</td>\n",
              "      <td>0.387324</td>\n",
              "      <td>0.320638</td>\n",
              "      <td>0.889189</td>\n",
              "      <td>00:17</td>\n",
              "    </tr>\n",
              "    <tr>\n",
              "      <td>5</td>\n",
              "      <td>0.302791</td>\n",
              "      <td>0.335695</td>\n",
              "      <td>0.883784</td>\n",
              "      <td>00:17</td>\n",
              "    </tr>\n",
              "    <tr>\n",
              "      <td>6</td>\n",
              "      <td>0.255699</td>\n",
              "      <td>0.327232</td>\n",
              "      <td>0.891892</td>\n",
              "      <td>00:17</td>\n",
              "    </tr>\n",
              "    <tr>\n",
              "      <td>7</td>\n",
              "      <td>0.208008</td>\n",
              "      <td>0.256033</td>\n",
              "      <td>0.921622</td>\n",
              "      <td>00:17</td>\n",
              "    </tr>\n",
              "    <tr>\n",
              "      <td>8</td>\n",
              "      <td>0.162924</td>\n",
              "      <td>0.347742</td>\n",
              "      <td>0.900000</td>\n",
              "      <td>00:17</td>\n",
              "    </tr>\n",
              "    <tr>\n",
              "      <td>9</td>\n",
              "      <td>0.132408</td>\n",
              "      <td>0.358987</td>\n",
              "      <td>0.897297</td>\n",
              "      <td>00:17</td>\n",
              "    </tr>\n",
              "    <tr>\n",
              "      <td>10</td>\n",
              "      <td>0.101300</td>\n",
              "      <td>0.309581</td>\n",
              "      <td>0.905405</td>\n",
              "      <td>00:17</td>\n",
              "    </tr>\n",
              "    <tr>\n",
              "      <td>11</td>\n",
              "      <td>0.081196</td>\n",
              "      <td>0.312241</td>\n",
              "      <td>0.905405</td>\n",
              "      <td>00:17</td>\n",
              "    </tr>\n",
              "    <tr>\n",
              "      <td>12</td>\n",
              "      <td>0.065788</td>\n",
              "      <td>0.325780</td>\n",
              "      <td>0.900000</td>\n",
              "      <td>00:17</td>\n",
              "    </tr>\n",
              "    <tr>\n",
              "      <td>13</td>\n",
              "      <td>0.055994</td>\n",
              "      <td>0.298644</td>\n",
              "      <td>0.918919</td>\n",
              "      <td>00:17</td>\n",
              "    </tr>\n",
              "    <tr>\n",
              "      <td>14</td>\n",
              "      <td>0.049134</td>\n",
              "      <td>0.300482</td>\n",
              "      <td>0.918919</td>\n",
              "      <td>00:17</td>\n",
              "    </tr>\n",
              "    <tr>\n",
              "      <td>15</td>\n",
              "      <td>0.041667</td>\n",
              "      <td>0.303437</td>\n",
              "      <td>0.908108</td>\n",
              "      <td>00:17</td>\n",
              "    </tr>\n",
              "    <tr>\n",
              "      <td>16</td>\n",
              "      <td>0.036457</td>\n",
              "      <td>0.285901</td>\n",
              "      <td>0.913514</td>\n",
              "      <td>00:17</td>\n",
              "    </tr>\n",
              "    <tr>\n",
              "      <td>17</td>\n",
              "      <td>0.032212</td>\n",
              "      <td>0.277941</td>\n",
              "      <td>0.921622</td>\n",
              "      <td>00:17</td>\n",
              "    </tr>\n",
              "    <tr>\n",
              "      <td>18</td>\n",
              "      <td>0.031234</td>\n",
              "      <td>0.277751</td>\n",
              "      <td>0.916216</td>\n",
              "      <td>00:17</td>\n",
              "    </tr>\n",
              "    <tr>\n",
              "      <td>19</td>\n",
              "      <td>0.028685</td>\n",
              "      <td>0.277063</td>\n",
              "      <td>0.913514</td>\n",
              "      <td>00:17</td>\n",
              "    </tr>\n",
              "  </tbody>\n",
              "</table>"
            ],
            "text/plain": [
              "<IPython.core.display.HTML object>"
            ]
          },
          "metadata": {
            "tags": []
          }
        }
      ]
    },
    {
      "cell_type": "markdown",
      "metadata": {
        "id": "QildUBiiuvdY",
        "colab_type": "text"
      },
      "source": [
        "# Benchmarking the two models with the full MNIST validation dataset"
      ]
    },
    {
      "cell_type": "code",
      "metadata": {
        "id": "Vx65nzG9wZDL",
        "colab_type": "code",
        "colab": {
          "base_uri": "https://localhost:8080/",
          "height": 54
        },
        "outputId": "a2609ec3-d7b3-4655-ec73-acee84f92f18"
      },
      "source": [
        "learn2.validate(dl=all_pets_dls.valid)"
      ],
      "execution_count": 23,
      "outputs": [
        {
          "output_type": "display_data",
          "data": {
            "text/html": [
              ""
            ],
            "text/plain": [
              "<IPython.core.display.HTML object>"
            ]
          },
          "metadata": {
            "tags": []
          }
        },
        {
          "output_type": "execute_result",
          "data": {
            "text/plain": [
              "(#2) [0.44024279713630676,0.8728010654449463]"
            ]
          },
          "metadata": {
            "tags": []
          },
          "execution_count": 23
        }
      ]
    },
    {
      "cell_type": "code",
      "metadata": {
        "id": "BGxFd5v3vxHi",
        "colab_type": "code",
        "colab": {
          "base_uri": "https://localhost:8080/",
          "height": 54
        },
        "outputId": "deb0392a-8ae2-4aaf-c073-ce57e33c0292"
      },
      "source": [
        "learn3.validate(dl=all_pets_dls.valid)"
      ],
      "execution_count": 24,
      "outputs": [
        {
          "output_type": "display_data",
          "data": {
            "text/html": [
              ""
            ],
            "text/plain": [
              "<IPython.core.display.HTML object>"
            ]
          },
          "metadata": {
            "tags": []
          }
        },
        {
          "output_type": "execute_result",
          "data": {
            "text/plain": [
              "(#2) [0.8561298251152039,0.7631934881210327]"
            ]
          },
          "metadata": {
            "tags": []
          },
          "execution_count": 24
        }
      ]
    }
  ]
}